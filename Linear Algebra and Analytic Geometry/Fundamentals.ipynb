{
 "cells": [
  {
   "cell_type": "markdown",
   "metadata": {},
   "source": [
    "# A Pythonic Exploration of Linear Algebra: Scalars, Vectors, Matrices, and Tensors\n",
    "**by Lorenzo Arcioni**\n",
    "\n",
    "Linear algebra is a branch of mathematics that deals with the study of vector spaces and linear transformations between them. It provides the fundamental tools and concepts for analyzing systems of linear equations, solving problems in geometry, and studying the properties of mathematical objects such as scalars, vectors, matrices, and tensors.\n",
    "\n",
    "## Scalars\n",
    "\n",
    "Scalars are elements of a field, such as ℝ, representing quantities that possess only magnitude, such as temperature, mass, distance, or time. Scalars have zero dimensions, and they are considered point values in a mathematical space. Typically denoted by lowercase letters (e.g., a, b, c), scalars are treated as constants. They can be real numbers, complex numbers, or elements from other mathematical fields.\n",
    "\n",
    "Let’s now represent a scalar in Python using the well known mathematical library NumPy."
   ]
  },
  {
   "cell_type": "code",
   "execution_count": 1,
   "metadata": {},
   "outputs": [
    {
     "name": "stdout",
     "output_type": "stream",
     "text": [
      "Scalar Value: 5\n",
      "Scalar Shape: ()\n"
     ]
    }
   ],
   "source": [
    "import numpy as np\n",
    "\n",
    "## Representing a scalar as aNumPy object\n",
    "\n",
    "# Creating a scalar\n",
    "a = np.array(5)\n",
    "\n",
    "# Displaying the scalar value\n",
    "print(\"Scalar Value:\", a)\n",
    "\n",
    "# Displaying the scalar shape\n",
    "print(\"Scalar Shape:\", a.shape)"
   ]
  },
  {
   "cell_type": "markdown",
   "metadata": {},
   "source": [
    "Since a scalar has no dimensions, its shape is represented as an empty tuple."
   ]
  },
  {
   "cell_type": "markdown",
   "metadata": {},
   "source": [
    "## Vectors\n",
    "\n",
    "A vector is an ordered collection of scalars that represents a quantity with both magnitude and direction. Vectors are used to describe various physical quantities, such as displacement, velocity, and force.\n",
    "In a geometric sense, they can be visualized as directed line segments with a specific length and direction in space.\n",
    "\n",
    "Vectors are typically denoted using lowercase letters with an arrow above them or by bold typeface (e.g., v, w, z). In a vector, elements can be accessed along its dimension using their position/index.\n",
    "\n",
    "    Remember that in Python, indexing starts at position 0.\n",
    "\n",
    "In this example, we create a vector\n",
    "$$\n",
    "\\vec v = \\begin{bmatrix}\n",
    "2\\\\\n",
    "4\\\\\n",
    "6\\\\\n",
    "8\n",
    "\\end{bmatrix} \\in \\mathbb{R}^3\n",
    "$$\n",
    "\n",
    "and by using indexing, we can easily access its components. For instance, to access its third component, we write $v[2]$.\n",
    "\n",
    "Here there is a practical code example."
   ]
  },
  {
   "cell_type": "code",
   "execution_count": 2,
   "metadata": {},
   "outputs": [
    {
     "name": "stdout",
     "output_type": "stream",
     "text": [
      "Vector: [2 4 6 8]\n",
      "Vector shape: (4,)\n",
      "The third element: 6\n"
     ]
    }
   ],
   "source": [
    "import numpy as np\n",
    "\n",
    "# Representing a vector as a NumPy object \n",
    "v = np.array([2, 4, 6, 8])\n",
    "\n",
    "# Displaying the vector\n",
    "print(\"Vector:\", v)\n",
    "\n",
    "# Displaying the vector shape\n",
    "print(\"Vector shape:\", v.shape)\n",
    "\n",
    "# Accessing the third element in the vector\n",
    "element_3 = v[2]\n",
    "print(\"The third element:\", element_3)"
   ]
  },
  {
   "cell_type": "markdown",
   "metadata": {},
   "source": [
    "Vectors have one dimension, so the shape of a vector is a 1-dimensional tuple $(n)$, where n is the number of elements in the vector.\n",
    "\n",
    "So far, everything very elegant, but have you ever wondered how to access more than one element (scalar) of a vector at a time? For instance, if you wanted to access only the last two scalars of a vector, how could you accomplish that?\n",
    "\n",
    "Well, the following code explains exactly how to achieve this result."
   ]
  },
  {
   "cell_type": "code",
   "execution_count": 1,
   "metadata": {},
   "outputs": [
    {
     "name": "stdout",
     "output_type": "stream",
     "text": [
      "Subvector: [6 8]\n"
     ]
    }
   ],
   "source": [
    "import numpy as np\n",
    "\n",
    "# Representing a vector as a NumPy object \n",
    "v = np.array([2, 4, 6, 8])\n",
    "\n",
    "# Displaying just the last 2 vector components\n",
    "print(\"Subvector:\", v[-2:])"
   ]
  },
  {
   "cell_type": "markdown",
   "metadata": {},
   "source": [
    "This way, we have obtained a sub-vector containing only the last two components of vector v.\n",
    "\n",
    "    Remember that, in Python, when using negative indexes, we are referencing elements from the end of the vector. For instance, v[-1] refers to the last element, v[-2] to the second-to-last, and so forth.\n",
    "\n",
    "In Python, the “:” is used for slicing arrays. It allows you to select a range of elements along a particular axis in an array. Here’s a brief explanation of how “:” works in indexing with NumPy:\n",
    "\n",
    "1. **Selecting a Range:** `array[start:stop]`: Selects elements starting from the index start up to, but not including, the index stop.\n",
    "2. **Omitting Start or Stop:** If start is omitted, it defaults to the beginning of the axis (index 0). If stop is omitted, it defaults to the end of the axis.\n",
    "3. **Selecting Every Nth Element:** `array[start:stop:step]`: Selects elements starting from start up to, but not including, stop, with a step size of step."
   ]
  },
  {
   "cell_type": "code",
   "execution_count": null,
   "metadata": {},
   "outputs": [],
   "source": []
  }
 ],
 "metadata": {
  "kernelspec": {
   "display_name": "datas",
   "language": "python",
   "name": "python3"
  },
  "language_info": {
   "codemirror_mode": {
    "name": "ipython",
    "version": 3
   },
   "file_extension": ".py",
   "mimetype": "text/x-python",
   "name": "python",
   "nbconvert_exporter": "python",
   "pygments_lexer": "ipython3",
   "version": "3.10.11"
  }
 },
 "nbformat": 4,
 "nbformat_minor": 2
}
