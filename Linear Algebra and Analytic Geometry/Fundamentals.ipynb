{
 "cells": [
  {
   "cell_type": "markdown",
   "metadata": {},
   "source": [
    "# A Pythonic Exploration of Linear Algebra: Scalars, Vectors, Matrices, and Tensors\n",
    "**by Lorenzo Arcioni**\n",
    "\n",
    "Linear algebra is a branch of mathematics that deals with the study of vector spaces and linear transformations between them. It provides the fundamental tools and concepts for analyzing systems of linear equations, solving problems in geometry, and studying the properties of mathematical objects such as scalars, vectors, matrices, and tensors.\n",
    "\n",
    "## Scalars\n",
    "\n",
    "Scalars are elements of a field, such as ℝ, representing quantities that possess only magnitude, such as temperature, mass, distance, or time. Scalars have zero dimensions, and they are considered point values in a mathematical space. Typically denoted by lowercase letters (e.g., a, b, c), scalars are treated as constants. They can be real numbers, complex numbers, or elements from other mathematical fields.\n",
    "\n",
    "Let’s now represent a scalar in Python using the well known mathematical library NumPy."
   ]
  },
  {
   "cell_type": "code",
   "execution_count": 1,
   "metadata": {},
   "outputs": [
    {
     "name": "stdout",
     "output_type": "stream",
     "text": [
      "Scalar Value: 5\n",
      "Scalar Shape: ()\n"
     ]
    }
   ],
   "source": [
    "import numpy as np\n",
    "\n",
    "## Representing a scalar as aNumPy object\n",
    "\n",
    "# Creating a scalar\n",
    "a = np.array(5)\n",
    "\n",
    "# Displaying the scalar value\n",
    "print(\"Scalar Value:\", a)\n",
    "\n",
    "# Displaying the scalar shape\n",
    "print(\"Scalar Shape:\", a.shape)"
   ]
  },
  {
   "cell_type": "markdown",
   "metadata": {},
   "source": [
    "Since a scalar has no dimensions, its shape is represented as an empty tuple."
   ]
  },
  {
   "cell_type": "markdown",
   "metadata": {},
   "source": [
    "## Vectors\n",
    "\n",
    "A vector is an ordered collection of scalars that represents a quantity with both magnitude and direction. Vectors are used to describe various physical quantities, such as displacement, velocity, and force.\n",
    "In a geometric sense, they can be visualized as directed line segments with a specific length and direction in space.\n",
    "\n",
    "Vectors are typically denoted using lowercase letters with an arrow above them or by bold typeface (e.g., $v$, $w$, $z$). In a vector, elements can be accessed along its dimension using their position/index.\n",
    "\n",
    "    Remember that in Python, indexing starts at position 0.\n",
    "\n",
    "In this example, we create a vector\n",
    "$$\n",
    "\\vec v = \\begin{bmatrix}\n",
    "2\\\\\n",
    "4\\\\\n",
    "6\\\\\n",
    "8\n",
    "\\end{bmatrix} \\in \\mathbb{R}^3\n",
    "$$\n",
    "\n",
    "and by using indexing, we can easily access its components. For instance, to access its third component, we write $v[2]$.\n",
    "\n",
    "Here there is a practical code example."
   ]
  },
  {
   "cell_type": "code",
   "execution_count": 2,
   "metadata": {},
   "outputs": [
    {
     "name": "stdout",
     "output_type": "stream",
     "text": [
      "Vector: [2 4 6 8]\n",
      "Vector shape: (4,)\n",
      "The third element: 6\n"
     ]
    }
   ],
   "source": [
    "import numpy as np\n",
    "\n",
    "# Representing a vector as a NumPy object \n",
    "v = np.array([2, 4, 6, 8])\n",
    "\n",
    "# Displaying the vector\n",
    "print(\"Vector:\", v)\n",
    "\n",
    "# Displaying the vector shape\n",
    "print(\"Vector shape:\", v.shape)\n",
    "\n",
    "# Accessing the third element in the vector\n",
    "element_3 = v[2]\n",
    "print(\"The third element:\", element_3)"
   ]
  },
  {
   "cell_type": "markdown",
   "metadata": {},
   "source": [
    "Vectors have one dimension, so the shape of a vector is a 1-dimensional tuple $(n)$, where n is the number of elements in the vector.\n",
    "\n",
    "So far, everything very elegant, but have you ever wondered how to access more than one element (scalar) of a vector at a time? For instance, if you wanted to access only the last two scalars of a vector, how could you accomplish that?\n",
    "\n",
    "Well, the following code explains exactly how to achieve this result."
   ]
  },
  {
   "cell_type": "code",
   "execution_count": 1,
   "metadata": {},
   "outputs": [
    {
     "name": "stdout",
     "output_type": "stream",
     "text": [
      "Subvector: [6 8]\n"
     ]
    }
   ],
   "source": [
    "import numpy as np\n",
    "\n",
    "# Representing a vector as a NumPy object \n",
    "v = np.array([2, 4, 6, 8])\n",
    "\n",
    "# Displaying just the last 2 vector components\n",
    "print(\"Subvector:\", v[-2:])"
   ]
  },
  {
   "cell_type": "markdown",
   "metadata": {},
   "source": [
    "This way, we have obtained a sub-vector containing only the last two components of vector v.\n",
    "\n",
    "    Remember that, in Python, when using negative indexes, we are referencing elements from the end of the vector. For instance, v[-1] refers to the last element, v[-2] to the second-to-last, and so forth.\n",
    "\n",
    "In Python, the “:” is used for slicing arrays. It allows you to select a range of elements along a particular axis in an array. Here’s a brief explanation of how “:” works in indexing with NumPy:\n",
    "\n",
    "1. **Selecting a Range:** `array[start:stop]`: Selects elements starting from the index start up to, but not including, the index stop.\n",
    "2. **Omitting Start or Stop:** If start is omitted, it defaults to the beginning of the axis (index 0). If stop is omitted, it defaults to the end of the axis.\n",
    "3. **Selecting Every Nth Element:** `array[start:stop:step]`: Selects elements starting from start up to, but not including, stop, with a step size of step."
   ]
  },
  {
   "cell_type": "markdown",
   "metadata": {},
   "source": [
    "## Matrices\n",
    "\n",
    "A matrix is a structured arrangement of vectors of scalars. Think of it as a grid or table where each entry holds a value. Matrices are often used to represent data, perform mathematical operations, and describe transformations in various fields such as mathematics, computer science, physics, and engineering. The number of rows and columns in a matrix defines its dimensions, and individual elements within it can be manipulated to solve problems or analyse relationships between quantities.\n",
    "\n",
    ">In matrices, just like in vectors, it is possible to use indexing to access the elements of the matrix.\n",
    "\n",
    "In this example, we’ll demonstrate how to create a matrix using NumPy and how to access its components."
   ]
  },
  {
   "cell_type": "code",
   "execution_count": null,
   "metadata": {},
   "outputs": [],
   "source": [
    "import numpy as np\n",
    "\n",
    "# Representing a matrix as a NumPy object\n",
    "A = np.array([[1, 2, 3],\n",
    "              [4, 5, 6],\n",
    "              [7, 8, 9]])\n",
    "\n",
    "# Displaying the matrix\n",
    "print(\"Matrix:\")\n",
    "print(A)\n",
    "\n",
    "# Displaying the matrix shape\n",
    "print(\"Matrix shape:\", A.shape)\n",
    "\n",
    "# Accessing the element at row 2, column 3\n",
    "element_23 = A[1, 2]\n",
    "print(\"Element at row 2, column 3:\", element_23)"
   ]
  },
  {
   "cell_type": "markdown",
   "metadata": {},
   "source": [
    "A matrix is characterized by its shape, expressed as a 2-dimensional tuple $(m, n)$, where m denotes the number of rows and n the number of columns. Conventionally, matrices are represented by uppercase bold letters, such as $\\textbf{A}$, $\\textbf{B}$, and $\\textbf{C}$.\n",
    "\n",
    "Of course, the same explanation given above for vectors also applies to matrices. For instance, if you wanted to access only the second row of matrix $\\textbf{A}$ as a vector, how could you accomplish that?\n",
    "\n",
    "The following code explains exactly how to achieve this result."
   ]
  },
  {
   "cell_type": "code",
   "execution_count": null,
   "metadata": {},
   "outputs": [],
   "source": [
    "import numpy as np\n",
    "\n",
    "# Representing a matrix as a NumPy object\n",
    "A = np.array([[1, 2, 3],\n",
    "              [4, 5, 6],\n",
    "              [7, 8, 9]])\n",
    "\n",
    "# Get just the second row as a vector\n",
    "print(A[1, :])"
   ]
  },
  {
   "cell_type": "markdown",
   "metadata": {},
   "source": [
    "So, in this example we have selected only the second row (that belong to the first dimension) of the matrix and all the scalars of the second dimension. Obviously, “:” can be used along multiple axes to create more complex slices. For example, `array[:, 1:3]` selects all rows and columns $1$ to $2$ of a $2D$ array."
   ]
  },
  {
   "cell_type": "markdown",
   "metadata": {},
   "source": [
    "## Tensors\n",
    "\n",
    "Tensors are mathematical objects that generalize the concepts of scalars, vectors, and matrices to higher dimensions.\n",
    "They are multi-dimensional arrays of numerical values. In the context of Linear Algebra, tensors can be seen as higher-order generalizations of matrices.\n",
    "\n",
    "    Scalars are 0th-order tensors, vectors are 1st-order tensors, matrices are 2nd-order tensors, and so on.\n",
    "\n",
    "The shape of a tensor is an n-dimensional tuple $(d1,d2,…,dn)$, where di represents the size of the $i$-th dimension.\n",
    "\n",
    "Usually, tensors are represented by uppercase bold letters (similar to matrices), but with a different calligraphic style, such as 𝓣 or 𝓦.\n",
    "\n",
    ">In tensors, just like in vectors and matrices, it is possible to use indexing to access the elements of the tensor."
   ]
  },
  {
   "cell_type": "code",
   "execution_count": 2,
   "metadata": {},
   "outputs": [
    {
     "name": "stdout",
     "output_type": "stream",
     "text": [
      "3-dimensional Tensor:\n",
      "[[[ 1  2  3]\n",
      "  [ 4  5  6]]\n",
      "\n",
      " [[ 7  8  9]\n",
      "  [10 11 12]]\n",
      "\n",
      " [[13 14 15]\n",
      "  [16 17 18]]]\n",
      "Element at depth 2, row 1, column 2: 8\n"
     ]
    }
   ],
   "source": [
    "import numpy as np\n",
    "\n",
    "# Creating a 3-dimensional tensor\n",
    "T = np.array([[[1, 2, 3],\n",
    "               [4, 5, 6]],\n",
    "               \n",
    "              [[7, 8, 9],\n",
    "               [10, 11, 12]],\n",
    "               \n",
    "              [[13, 14, 15],\n",
    "               [16, 17, 18]]\n",
    "])\n",
    "\n",
    "# Displaying the tensor\n",
    "print(\"3-dimensional Tensor:\")\n",
    "print(T)\n",
    "\n",
    "# Accessing individual elements by indexing\n",
    "element_211 = T[1, 0, 1]\n",
    "print(\"Element at depth 2, row 1, column 2:\", element_211)"
   ]
  },
  {
   "cell_type": "markdown",
   "metadata": {},
   "source": [
    "As you may easily imagine, the same logic applied to matrices and vectors also extends to tensors when it comes to slicing.\n",
    "\n",
    "In the example below, you see how to use slicing in a tensor."
   ]
  },
  {
   "cell_type": "code",
   "execution_count": 3,
   "metadata": {},
   "outputs": [
    {
     "name": "stdout",
     "output_type": "stream",
     "text": [
      "Tensor:\n",
      "[[[ 1  2  3]\n",
      "  [ 4  5  6]\n",
      "  [ 7  8  9]]\n",
      "\n",
      " [[10 11 12]\n",
      "  [13 14 15]\n",
      "  [16 17 18]]\n",
      "\n",
      " [[19 20 21]\n",
      "  [22 23 24]\n",
      "  [25 26 27]]]\n",
      "Slice along the depth (from the second depth onwards):\n",
      "[[[11 12]\n",
      "  [17 18]]\n",
      "\n",
      " [[20 21]\n",
      "  [26 27]]]\n"
     ]
    }
   ],
   "source": [
    "import numpy as np\n",
    "\n",
    "# Creating a 3D tensor (3x3x3) for the example\n",
    "T = np.array([[[1, 2, 3], [4, 5, 6], [7, 8, 9]],\n",
    "              [[10, 11, 12], [13, 14, 15], [16, 17, 18]],\n",
    "              [[19, 20, 21], [22, 23, 24], [25, 26, 27]]\n",
    "])\n",
    "\n",
    "# Slicing along all dimensions\n",
    "slice_along_depth = T[1:, ::2, -2:]\n",
    "\n",
    "print(\"Tensor:\")\n",
    "print(T)\n",
    "print(\"Slice along the depth (from the second depth onwards):\")\n",
    "print(slice_along_depth)"
   ]
  },
  {
   "cell_type": "markdown",
   "metadata": {},
   "source": [
    "In this slightly more complex example:\n",
    "\n",
    "- `1: `selects elements starting from the second depth (index 1) to the end of the depth dimension.\n",
    "- `::2` selects every second element along the second dimension (rows).\n",
    "- `-2:` selects the last two elements along the third dimension (columns).\n",
    "\n",
    "Understanding tensors is crucial in fields that involve higher-dimensional data and complex relationships between variables. While the geometric interpretation becomes challenging as the order increases, the mathematical concepts remain consistent."
   ]
  },
  {
   "cell_type": "markdown",
   "metadata": {},
   "source": [
    "# Conclusions\n",
    "\n",
    "As we conclude this exploration, we’ve merely scratched the surface of the captivating algebraic objects pivotal to Machine Learning. Today’s journey serves as an introductory glimpse into the intricate world of Linear Algebra. Our adventure, however, has just begun. In upcoming articles, we’ll delve into more advanced topics, unravelling the nuances and intricate applications of these tools. This article serves as a beginner’s guide, laying the foundation for deeper explorations into the vast realms of Linear Algebra and Machine Learning. Stay tuned for more in-depth insights and sophisticated discussions in the articles to come, where we’ll unravel the full potential of these mathematical constructs in shaping the landscape of Artificial Intelligence.\n"
   ]
  }
 ],
 "metadata": {
  "kernelspec": {
   "display_name": "datas",
   "language": "python",
   "name": "python3"
  },
  "language_info": {
   "codemirror_mode": {
    "name": "ipython",
    "version": 3
   },
   "file_extension": ".py",
   "mimetype": "text/x-python",
   "name": "python",
   "nbconvert_exporter": "python",
   "pygments_lexer": "ipython3",
   "version": "3.10.11"
  }
 },
 "nbformat": 4,
 "nbformat_minor": 2
}
