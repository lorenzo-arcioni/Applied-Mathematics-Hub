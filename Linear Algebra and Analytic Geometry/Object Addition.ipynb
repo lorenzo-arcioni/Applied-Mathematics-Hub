{
 "cells": [
  {
   "cell_type": "markdown",
   "metadata": {},
   "source": [
    "<a href=\"https://colab.research.google.com/github/lorenzo-arcioni/Applied-Mathematics-Hub/blob/main/Linear Algebra and Analytic Geometry/Fundamentals.ipynb\" target=\"_parent\"><img src=\"https://colab.research.google.com/assets/colab-badge.svg\" alt=\"Open In Colab\"/></a>\n",
    "\n",
    "# A Pythonic Exploration of Linear Algebra: Object Addition\n",
    "**by Lorenzo Arcioni**\n",
    "\n",
    "In this exploration, we dive into the core concept of object addition, an essential operation that lies at the heart of linear algebra, paving the way for a deeper understanding of mathematical structures and their real-world applications.\n",
    "\n",
    "Scalar, vector, matrix, and tensor addition are fundamental operations that extend beyond mere mathematical operations; they are the building blocks for solving complex problems in various scientific and computational domains. Through the lens of NumPy, we embark on a journey to discover the elegance and efficiency with which we can perform these operations in a Pythonic manner.\n",
    "\n",
    "According to mathematical theory, it is only possible to add two objects (scalars, vectors, matrices, and tensors) if and only if they have the same shape, meaning they have the same dimensions and the same number of elements for each dimension. But we will see that when we operate with NumPy, this rule does not always apply! In fact, in certain cases, we can add two objects even if they have different shapes."
   ]
  },
  {
   "cell_type": "markdown",
   "metadata": {},
   "source": [
    "## Scalar Addition\n",
    "\n",
    "Scalar addition by another scalar involves adding two scalar values together, providing a straightforward yet crucial operation in mathematical computations.\n",
    "This operation concerns the most common addition operation, the one we are accustomed to performing routinely."
   ]
  },
  {
   "cell_type": "code",
   "execution_count": 7,
   "metadata": {},
   "outputs": [
    {
     "name": "stdout",
     "output_type": "stream",
     "text": [
      "The sum of 5 and 3 is 8\n"
     ]
    }
   ],
   "source": [
    "# Importing necessary libraries\n",
    "import numpy as np\n",
    "\n",
    "# Example scalar values\n",
    "a = np.array(5)\n",
    "b = np.array(3)\n",
    "\n",
    "# Scalar-scalar addition\n",
    "c = a + b\n",
    "\n",
    "# Display the result\n",
    "print(\"The sum of\", a, \"and\", b, \"is\", c)"
   ]
  },
  {
   "cell_type": "markdown",
   "metadata": {},
   "source": [
    "As you can see, it's the trivial addition."
   ]
  },
  {
   "cell_type": "markdown",
   "metadata": {},
   "source": [
    "## Vector Addition\n",
    "\n",
    "In this segment, we focus on the addition of vectors, fundamental mathematical entities that play a crucial role in various scientific and computational applications. Vector sum is an element-wise operation, so with two generic vectors $\\vec a$ and $\\vec b$, their sum is defined as the element-wise sum of their components.\n",
    "\n",
    "Geometrically, vector addition corresponds to placing the initial point of the second vector at the terminal point of the first vector and connecting the initial point of the first vector to the terminal point of the second vector.\n",
    "\n",
    "Leveraging NumPy's inherent ability to perform element-wise operations, we effortlessly compute the sum of vectors using the $+$ operator. The resulting vector showcases how NumPy simplifies and enhances the efficiency of vector addition, making it an indispensable tool for mathematical operations in the Python ecosystem.\n",
    "\n",
    "**Example**"
   ]
  },
  {
   "cell_type": "code",
   "execution_count": 8,
   "metadata": {},
   "outputs": [
    {
     "name": "stdout",
     "output_type": "stream",
     "text": [
      "The sum of [1 2 3] and [4 5 6] is [5 7 9]\n"
     ]
    }
   ],
   "source": [
    "import numpy as np\n",
    "\n",
    "# Example vectors\n",
    "a = np.array([1, 2, 3])\n",
    "b = np.array([4, 5, 6])\n",
    "\n",
    "# Perform vector addition\n",
    "c = a + b\n",
    "print(\"The sum of\", a, \"and\", b, \"is\", c)"
   ]
  },
  {
   "cell_type": "markdown",
   "metadata": {},
   "source": [
    "As mentioned in the introduction, it's possible to add together two objects of different dimensionalities, such as a scalar and a vector. In this case, the scalar is added to each element of the vector, resulting in a new vector where each element is the sum of the corresponding element in the original vector and the scalar.\n",
    "\n",
    "**Example**"
   ]
  },
  {
   "cell_type": "code",
   "execution_count": 9,
   "metadata": {},
   "outputs": [
    {
     "name": "stdout",
     "output_type": "stream",
     "text": [
      "Scalar Value: 5\n",
      "\n",
      "Vector:\n",
      "[1 2 3]\n",
      "\n",
      "Result of Scalar-Vector Addition:\n",
      "[6 7 8]\n"
     ]
    }
   ],
   "source": [
    "import numpy as np\n",
    "\n",
    "# Define a scalar and a vector\n",
    "scalar_value = 5\n",
    "vector = np.array([1, 2, 3])\n",
    "\n",
    "# Scalar-vector addition\n",
    "result_vector = scalar_value + vector\n",
    "\n",
    "# Display the original scalar, vector, and the result\n",
    "print(\"Scalar Value:\", scalar_value)\n",
    "print(\"\\nVector:\")\n",
    "print(vector)\n",
    "print(\"\\nResult of Scalar-Vector Addition:\")\n",
    "print(result_vector)"
   ]
  },
  {
   "cell_type": "markdown",
   "metadata": {},
   "source": [
    "Let's explore another type of sum using NumPy's sum function along a specific axis. The **numpy.sum** function allows us to calculate the sum of array elements along a specified axis.\n",
    "\n",
    "Here's an example with a vector.\n",
    "\n",
    "**Example**"
   ]
  },
  {
   "cell_type": "code",
   "execution_count": 10,
   "metadata": {},
   "outputs": [
    {
     "name": "stdout",
     "output_type": "stream",
     "text": [
      "The sum of elements in the vector is 8.2\n"
     ]
    }
   ],
   "source": [
    "# Importing necessary libraries\n",
    "import numpy as np\n",
    "\n",
    "# Example vector\n",
    "v = np.array([1, .2, 3, 4])\n",
    "\n",
    "# Calculating the sum of elements in the vector\n",
    "v_sum = np.sum(v)\n",
    "\n",
    "# Display the total sum\n",
    "print(\"The sum of elements in the vector is\", v_sum) # 8.2 = 1 + .2 + 3 + 4 = v_sum"
   ]
  },
  {
   "cell_type": "markdown",
   "metadata": {},
   "source": [
    "This kind of sum, utilizing **numpy.sum** along a specified axis, is particularly powerful when dealing with multi-dimensional arrays. It allows us to focus on the summation operation along a specific dimension, providing a versatile tool for array manipulation and analysis. In the case of vectors, as illustrated in the example above, it conveniently computes the total sum of all elements in the array. However, as we delve into more complex data structures like matrices and tensors, specifying the axis becomes crucial for obtaining meaningful results and gaining insights into the structure of the data. Let's explore further with examples involving matrices and tensors to showcase the versatility of **numpy.sum** along different axes."
   ]
  },
  {
   "cell_type": "markdown",
   "metadata": {},
   "source": [
    "## Matrix Addition\n",
    "\n",
    "Now, our focus shifts to matrices—two-dimensional arrays that serve as fundamental structures in various scientific and computational domains.\n",
    "\n",
    "In the cell below, we define two example matrices, $\\textbf{A}_{3,3}$ and $\\textbf{B}_{3,3}$, as NumPy arrays. Leveraging NumPy's vectorized operations, the + operator facilitates the addition of these matrices element-wise. The resulting result_matrix showcases how NumPy streamlines matrix addition, providing a clear and concise syntax for handling complex mathematical operations.\n",
    "\n",
    "**Example**"
   ]
  },
  {
   "cell_type": "code",
   "execution_count": 11,
   "metadata": {},
   "outputs": [
    {
     "name": "stdout",
     "output_type": "stream",
     "text": [
      "The sum of A and B is:\n",
      " [[10.  14.   3. ]\n",
      " [ 9.   0.   7. ]\n",
      " [ 0.  16.  13.2]]\n"
     ]
    }
   ],
   "source": [
    "import numpy as np\n",
    "\n",
    "# Matrix A\n",
    "A = np.array([[1, 2, 3],\n",
    "              [4, 5, 6],\n",
    "              [7, 8, 9]])\n",
    "\n",
    "# Matrix B\n",
    "B = np.array([[9, 12, 0],\n",
    "              [5, -5, 1],\n",
    "              [-7, 8, 4.2]])\n",
    "\n",
    "# Matrix addition\n",
    "C = A + B\n",
    "\n",
    "# Display the result\n",
    "print(\"The sum of A and B is:\\n\", C)"
   ]
  },
  {
   "cell_type": "markdown",
   "metadata": {},
   "source": [
    "As you can see, two matrices can be added together only if they have the same 'shape'; indeed, in our case, the matrices have both the first and second dimensions equal.\n",
    "\n",
    "But let's consider another example; let's take two matrices, $\\textbf{A}_{3,5}$ and $\\textbf{B}_{3,5}$, each with a size of 3x5, and calculate their sum using NumPy.\n",
    "\n",
    "**Example**"
   ]
  },
  {
   "cell_type": "code",
   "execution_count": 12,
   "metadata": {},
   "outputs": [
    {
     "name": "stdout",
     "output_type": "stream",
     "text": [
      "Sum of Matrices A and B:\n",
      "[[ 6  6  6  6  6]\n",
      " [16 16 16 16 16]\n",
      " [26 26 26 26 26]]\n"
     ]
    }
   ],
   "source": [
    "import numpy as np\n",
    "\n",
    "# Define matrices A and B\n",
    "A = np.array([[1, 2, 3, 4, 5],\n",
    "              [6, 7, 8, 9, 10],\n",
    "              [11, 12, 13, 14, 15]])\n",
    "\n",
    "B = np.array([[5, 4, 3, 2, 1],\n",
    "              [10, 9, 8, 7, 6],\n",
    "              [15, 14, 13, 12, 11]])\n",
    "\n",
    "# Calculate the sum of matrices A and B\n",
    "C = A + B\n",
    "\n",
    "# Display the matrices and their sum\n",
    "print(\"Sum of Matrices A and B:\")\n",
    "print(C)"
   ]
  },
  {
   "cell_type": "markdown",
   "metadata": {},
   "source": [
    "As you can see, the result is still a 3x5 matrix generated by the component-wise addition of the components of matrices $\\textbf{A}_{3,5}$ and $\\textbf{B}_{3,5}$."
   ]
  },
  {
   "cell_type": "markdown",
   "metadata": {},
   "source": [
    "As with vectors, matrices can also be added to objects of different shapes. In this example, we'll demonstrate both scalar-matrix addition and vector-matrix addition. When adding a scalar to a matrix, the scalar is added to each element of the matrix. Conversely, when adding a vector to a matrix, the vector is added element-wise to each corresponding column of the matrix. Both operations are performed element-wise."
   ]
  },
  {
   "cell_type": "code",
   "execution_count": 13,
   "metadata": {},
   "outputs": [
    {
     "name": "stdout",
     "output_type": "stream",
     "text": [
      "Scalar Value: 5\n",
      "\n",
      "Vector:\n",
      "[1 2 3]\n",
      "\n",
      "Matrix:\n",
      "[[ 4  5  6]\n",
      " [ 7  8  9]\n",
      " [10 11 12]]\n",
      "\n",
      "Result of Scalar-Matrix Addition:\n",
      "[[ 9 10 11]\n",
      " [12 13 14]\n",
      " [15 16 17]]\n",
      "\n",
      "Result of Vector-Matrix Addition:\n",
      "[[ 5  7  9]\n",
      " [ 8 10 12]\n",
      " [11 13 15]]\n"
     ]
    }
   ],
   "source": [
    "import numpy as np\n",
    "\n",
    "# Define a scalar, a vector, and a matrix\n",
    "scalar_value = 5\n",
    "vector = np.array([1, 2, 3])\n",
    "matrix = np.array([[4, 5, 6],\n",
    "                   [7, 8, 9],\n",
    "                   [10, 11, 12]])\n",
    "\n",
    "# Scalar-matrix addition\n",
    "scalar_matrix_result = scalar_value + matrix\n",
    "\n",
    "# Vector-matrix addition\n",
    "vector_matrix_result = vector + matrix\n",
    "\n",
    "# Display the original scalar, vector, matrix, and the results\n",
    "print(\"Scalar Value:\", scalar_value)\n",
    "print(\"\\nVector:\")\n",
    "print(vector)\n",
    "print(\"\\nMatrix:\")\n",
    "print(matrix)\n",
    "print(\"\\nResult of Scalar-Matrix Addition:\")\n",
    "print(scalar_matrix_result)\n",
    "print(\"\\nResult of Vector-Matrix Addition:\")\n",
    "print(vector_matrix_result)"
   ]
  },
  {
   "cell_type": "markdown",
   "metadata": {},
   "source": [
    "We also notice that in matrices, it's possible to use the **numpy.sum** function to perform sums along the axes of a matrix. For instance, if we want to calculate the sum of elements along the columns of a matrix, we can specify the corresponding axis using the parameter `axis=0`. Conversely, to obtain the sum along the rows, we can use `axis=1`. This flexibility in axis specification allows us to obtain aggregated sums in specific directions within the matrix.\n",
    "\n",
    "**Example**"
   ]
  },
  {
   "cell_type": "code",
   "execution_count": 14,
   "metadata": {},
   "outputs": [
    {
     "name": "stdout",
     "output_type": "stream",
     "text": [
      "Original Matrix:\n",
      "[[1 2 3]\n",
      " [4 5 6]\n",
      " [7 8 9]]\n",
      "\n",
      "Sum along Columns (axis=0):\n",
      "[12 15 18]\n",
      "\n",
      "Sum along Rows (axis=1):\n",
      "[ 6 15 24]\n"
     ]
    }
   ],
   "source": [
    "import numpy as np\n",
    "\n",
    "# Define a sample matrix\n",
    "matrix = np.array([[1, 2, 3],\n",
    "                   [4, 5, 6],\n",
    "                   [7, 8, 9]])\n",
    "\n",
    "# Calculate the sum along the columns (axis=0)\n",
    "column_sum = np.sum(matrix, axis=0)\n",
    "\n",
    "# Calculate the sum along the rows (axis=1)\n",
    "row_sum = np.sum(matrix, axis=1)\n",
    "\n",
    "# Display the original matrix and the sums\n",
    "print(\"Original Matrix:\")\n",
    "print(matrix)\n",
    "\n",
    "print(\"\\nSum along Columns (axis=0):\")\n",
    "print(column_sum)\n",
    "\n",
    "print(\"\\nSum along Rows (axis=1):\")\n",
    "print(row_sum)"
   ]
  },
  {
   "cell_type": "markdown",
   "metadata": {},
   "source": [
    "In this example:\n",
    "\n",
    "- We define a sample matrix.\n",
    "- We use np.sum(matrix, axis=0) to calculate the sum along the columns (axis=0), which means that we are obtaining a new array where each element corresponds to the sum of the elements in the same column across all rows. This operation collapses the matrix along the vertical direction, providing insights into the total contribution of each column to the overall structure.\n",
    "- We use np.sum(matrix, axis=1) to calculate the sum along the rows (axis=1), which means that we are obtaining an array where each element represents the sum of the elements in the same row across all columns. This horizontal summation allows us to understand the cumulative effect of each row within the matrix."
   ]
  },
  {
   "cell_type": "markdown",
   "metadata": {},
   "source": [
    "## Tensor Addition\n",
    "\n",
    "We have reached the third and final section of today's topic. Tensor addition is an element-wise operation that involves adding tensors of the same shape. This means that, similar to what we've seen with matrices and vectors, the addition occurs between corresponding elements in the input tensors.\n",
    "\n",
    "To perform tensor addition in Python using NumPy, we can use the same logic as in the previous operations, as NumPy extends its versatility to tensors as well. Let's see an example of how we could perform this operation with two 3D tensors.\n",
    "\n",
    "**Example**"
   ]
  },
  {
   "cell_type": "code",
   "execution_count": 15,
   "metadata": {},
   "outputs": [
    {
     "name": "stdout",
     "output_type": "stream",
     "text": [
      "Sum of Tensors A and B:\n",
      "[[[26 28 30 32]\n",
      "  [34 36 38 40]\n",
      "  [42 44 46 48]]\n",
      "\n",
      " [[50 52 54 56]\n",
      "  [58 60 62 64]\n",
      "  [66 68 70 72]]]\n"
     ]
    }
   ],
   "source": [
    "import numpy as np\n",
    "\n",
    "# Manual definition of two 3D tensors\n",
    "A = np.array([[\n",
    "               [1, 2, 3, 4],\n",
    "               [5, 6, 7, 8],\n",
    "               [9, 10, 11, 12]\n",
    "              ],\n",
    "               \n",
    "              [\n",
    "               [13, 14, 15, 16],\n",
    "               [17, 18, 19, 20],\n",
    "               [21, 22, 23, 24]\n",
    "              ]\n",
    "])\n",
    "\n",
    "B = np.array([[\n",
    "               [25, 26, 27, 28],\n",
    "               [29, 30, 31, 32],\n",
    "               [33, 34, 35, 36]\n",
    "              ],\n",
    "                     \n",
    "              [\n",
    "               [37, 38, 39, 40],\n",
    "               [41, 42, 43, 44],\n",
    "               [45, 46, 47, 48]\n",
    "              ]\n",
    "])\n",
    "\n",
    "# Tensor addition\n",
    "C = A + B\n",
    "\n",
    "# Displaying tensor result of the addition\n",
    "print(\"Sum of Tensors A and B:\")\n",
    "print(C)"
   ]
  },
  {
   "cell_type": "markdown",
   "metadata": {},
   "source": [
    "With a bit of imagination, you will notice that it is possible to add scalars, vectors, and matrices to tensors.\n",
    "\n",
    "In this example, we'll showcase the addition of a scalar, a vector, and a matrix to a 3D tensor. Similar to the previous cases, these operations are performed element-wise. The scalar is added to each element of the tensor, the vector is added element-wise to each corresponding subarray along the first axis, and the matrix is added element-wise to each corresponding subarray along the first axis.\n",
    "\n",
    "**Example**"
   ]
  },
  {
   "cell_type": "code",
   "execution_count": 16,
   "metadata": {},
   "outputs": [
    {
     "name": "stdout",
     "output_type": "stream",
     "text": [
      "Scalar Value: 5\n",
      "\n",
      "Vector:\n",
      "[1 2 3]\n",
      "\n",
      "Matrix:\n",
      "[[ 4  5  6]\n",
      " [ 7  8  9]\n",
      " [10 11 12]]\n",
      "\n",
      "3D Tensor:\n",
      "[[[ 1  2  3]\n",
      "  [ 4  5  6]\n",
      "  [ 7  8  9]]\n",
      "\n",
      " [[10 11 12]\n",
      "  [13 14 15]\n",
      "  [16 17 18]]\n",
      "\n",
      " [[19 20 21]\n",
      "  [22 23 24]\n",
      "  [25 26 27]]]\n",
      "\n",
      "Result of Scalar-Tensor Addition:\n",
      "[[[ 6  7  8]\n",
      "  [ 9 10 11]\n",
      "  [12 13 14]]\n",
      "\n",
      " [[15 16 17]\n",
      "  [18 19 20]\n",
      "  [21 22 23]]\n",
      "\n",
      " [[24 25 26]\n",
      "  [27 28 29]\n",
      "  [30 31 32]]]\n",
      "\n",
      "Result of Vector-Tensor Addition:\n",
      "[[[ 2  4  6]\n",
      "  [ 5  7  9]\n",
      "  [ 8 10 12]]\n",
      "\n",
      " [[11 13 15]\n",
      "  [14 16 18]\n",
      "  [17 19 21]]\n",
      "\n",
      " [[20 22 24]\n",
      "  [23 25 27]\n",
      "  [26 28 30]]]\n",
      "\n",
      "Result of Matrix-Tensor Addition:\n",
      "[[[ 5  7  9]\n",
      "  [11 13 15]\n",
      "  [17 19 21]]\n",
      "\n",
      " [[14 16 18]\n",
      "  [20 22 24]\n",
      "  [26 28 30]]\n",
      "\n",
      " [[23 25 27]\n",
      "  [29 31 33]\n",
      "  [35 37 39]]]\n"
     ]
    }
   ],
   "source": [
    "import numpy as np\n",
    "\n",
    "# Define a scalar, a vector, a matrix, and a 3D tensor\n",
    "scalar_value = 5\n",
    "vector = np.array([1, 2, 3])\n",
    "matrix = np.array([[4, 5, 6],\n",
    "                   [7, 8, 9],\n",
    "                   [10, 11, 12]])\n",
    "\n",
    "tensor_3d = np.array([[\n",
    "                        [1, 2, 3],\n",
    "                        [4, 5, 6],\n",
    "                        [7, 8, 9]\n",
    "                      ],\n",
    "                        \n",
    "                      [\n",
    "                        [10, 11, 12],\n",
    "                        [13, 14, 15],\n",
    "                        [16, 17, 18]\n",
    "                      ],\n",
    "                        \n",
    "                      [\n",
    "                        [19, 20, 21],\n",
    "                        [22, 23, 24],\n",
    "                        [25, 26, 27]\n",
    "                      ]\n",
    "])\n",
    "\n",
    "# Scalar-tensor addition\n",
    "scalar_tensor_result = scalar_value + tensor_3d\n",
    "\n",
    "# Vector-tensor addition\n",
    "vector_tensor_result = vector + tensor_3d\n",
    "\n",
    "# Matrix-tensor addition\n",
    "matrix_tensor_result = matrix + tensor_3d\n",
    "\n",
    "# Display the original scalar, vector, matrix, tensor, and the results\n",
    "print(\"Scalar Value:\", scalar_value)\n",
    "print(\"\\nVector:\")\n",
    "print(vector)\n",
    "print(\"\\nMatrix:\")\n",
    "print(matrix)\n",
    "print(\"\\n3D Tensor:\")\n",
    "print(tensor_3d)\n",
    "print(\"\\nResult of Scalar-Tensor Addition:\")\n",
    "print(scalar_tensor_result)\n",
    "print(\"\\nResult of Vector-Tensor Addition:\")\n",
    "print(vector_tensor_result)\n",
    "print(\"\\nResult of Matrix-Tensor Addition:\")\n",
    "print(matrix_tensor_result)"
   ]
  },
  {
   "cell_type": "markdown",
   "metadata": {},
   "source": [
    "And, as you can imagine, the numpy.sum function can be applied just as effectively in the case of tensors, following the same logic of summation along axes used in matrices.\n",
    "\n",
    "**Example**"
   ]
  },
  {
   "cell_type": "code",
   "execution_count": 17,
   "metadata": {},
   "outputs": [
    {
     "name": "stdout",
     "output_type": "stream",
     "text": [
      "Original Tensor:\n",
      "[[[ 1  2  3  4]\n",
      "  [ 5  6  7  8]\n",
      "  [ 9 10 11 12]]\n",
      "\n",
      " [[13 14 15 16]\n",
      "  [17 18 19 20]\n",
      "  [21 22 23 24]]\n",
      "\n",
      " [[25 26 27 28]\n",
      "  [29 30 31 32]\n",
      "  [33 34 35 36]]]\n",
      "\n",
      "Sum along Axis 0:\n",
      "[[39 42 45 48]\n",
      " [51 54 57 60]\n",
      " [63 66 69 72]]\n",
      "\n",
      "Sum along Axis 1:\n",
      "[[15 18 21 24]\n",
      " [51 54 57 60]\n",
      " [87 90 93 96]]\n",
      "\n",
      "Sum along Axis 2:\n",
      "[[ 10  26  42]\n",
      " [ 58  74  90]\n",
      " [106 122 138]]\n"
     ]
    }
   ],
   "source": [
    "import numpy as np\n",
    "\n",
    "# Manual definition of a 3D tensor\n",
    "C = np.array([[\n",
    "                      [1, 2, 3, 4],\n",
    "                      [5, 6, 7, 8],\n",
    "                      [9, 10, 11, 12]\n",
    "                     ],\n",
    "                     \n",
    "                     [\n",
    "                      [13, 14, 15, 16],\n",
    "                      [17, 18, 19, 20],\n",
    "                      [21, 22, 23, 24]\n",
    "                     ],\n",
    "                     \n",
    "                     [\n",
    "                      [25, 26, 27, 28],\n",
    "                      [29, 30, 31, 32],\n",
    "                      [33, 34, 35, 36]\n",
    "                    ]\n",
    "])\n",
    "\n",
    "# Sum along each axis\n",
    "C_sum_along_axis0 = np.sum(C, axis=0)\n",
    "C_sum_along_axis1 = np.sum(C, axis=1)\n",
    "C_sum_along_axis2 = np.sum(C, axis=2)\n",
    "\n",
    "# Display the original tensor and the sums\n",
    "print(\"Original Tensor:\")\n",
    "print(C)\n",
    "\n",
    "print(\"\\nSum along Axis 0:\")\n",
    "print(C_sum_along_axis0)\n",
    "\n",
    "print(\"\\nSum along Axis 1:\")\n",
    "print(C_sum_along_axis1)\n",
    "\n",
    "print(\"\\nSum along Axis 2:\")\n",
    "print(C_sum_along_axis2)\n"
   ]
  },
  {
   "cell_type": "markdown",
   "metadata": {},
   "source": [
    "## Conclusions\n",
    "\n",
    "We explored the concept of algebraic object addition, delving into scalar, vector, matrix, and tensor additions using the versatile NumPy library in Python. We witnessed how these operations are performed element-wise, and we demonstrated examples showcasing the flexibility of handling objects with different shapes. It's crucial to note that these fundamental algebraic operations serve as the building blocks for various mathematical and computational concepts, particularly in the realm of Machine Learning.\n",
    "\n",
    "Stay tuned for upcoming articles, where we will continue to delve into more advanced topics and applications within the exciting world of algebraic manipulations, providing valuable insights for your journey in data-driven exploration and analysis."
   ]
  }
 ],
 "metadata": {
  "kernelspec": {
   "display_name": "datas",
   "language": "python",
   "name": "python3"
  },
  "language_info": {
   "codemirror_mode": {
    "name": "ipython",
    "version": 3
   },
   "file_extension": ".py",
   "mimetype": "text/x-python",
   "name": "python",
   "nbconvert_exporter": "python",
   "pygments_lexer": "ipython3",
   "version": "3.10.11"
  }
 },
 "nbformat": 4,
 "nbformat_minor": 2
}
