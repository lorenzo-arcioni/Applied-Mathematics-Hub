{
 "cells": [
  {
   "cell_type": "markdown",
   "metadata": {},
   "source": [
    "<a href=\"https://colab.research.google.com/github/lorenzo-arcioni/Applied-Mathematics-Hub/blob/main/Linear Algebra and Analytic Geometry/Fundamentals.ipynb\" target=\"_parent\"><img src=\"https://colab.research.google.com/assets/colab-badge.svg\" alt=\"Open In Colab\"/></a>\n",
    "\n",
    "# A Pythonic Exploration of Linear Algebra: Object Addition\n",
    "**by Lorenzo Arcioni**\n",
    "\n",
    "In this exploration, we dive into the core concept of object addition, an essential operation that lies at the heart of linear algebra, paving the way for a deeper understanding of mathematical structures and their real-world applications.\n",
    "\n",
    "Scalar, vector, matrix, and tensor addition are fundamental operations that extend beyond mere mathematical operations; they are the building blocks for solving complex problems in various scientific and computational domains. Through the lens of NumPy, we embark on a journey to discover the elegance and efficiency with which we can perform these operations in a Pythonic manner.\n",
    "\n",
    "According to mathematical theory, it is only possible to add two objects (scalars, vectors, matrices, and tensors) if and only if they have the same `shape`, meaning they have the same dimensions and the same number of elements for each dimension. But we will see that when we operate with NumPy, this rule does not always apply! In fact, in certain cases, we can add two objects even if they have different `shapes`."
   ]
  },
  {
   "cell_type": "markdown",
   "metadata": {},
   "source": [
    "## Scalar Addition\n",
    "\n",
    "Scalar addition by another scalar involves adding two scalar values together, providing a straightforward yet crucial operation in mathematical computations.\n",
    "This operation concerns the most common addition operation, the one we are accustomed to performing routinely."
   ]
  },
  {
   "cell_type": "code",
   "execution_count": 10,
   "metadata": {},
   "outputs": [
    {
     "name": "stdout",
     "output_type": "stream",
     "text": [
      "The sum of 5 and 3 is 8\n"
     ]
    }
   ],
   "source": [
    "# Importing necessary libraries\n",
    "import numpy as np\n",
    "\n",
    "# Example scalar values\n",
    "a = 5\n",
    "b = 3\n",
    "\n",
    "# Scalar-scalar addition\n",
    "c = a + b\n",
    "\n",
    "# Display the result\n",
    "print(\"The sum of\", a, \"and\", b, \"is\", c)"
   ]
  },
  {
   "cell_type": "markdown",
   "metadata": {},
   "source": [
    "As you can see, it's a trivial addition."
   ]
  },
  {
   "cell_type": "markdown",
   "metadata": {},
   "source": [
    "## Vector Addition\n",
    "\n",
    "In this segment, we focus on the addition of vectors, fundamental mathematical entities that play a crucial role in various scientific and computational applications. In the first cell, we initialize two example vectors, $\\vec a = \\begin{bmatrix}1 \\\\ 2 \\\\ 3 \\end{bmatrix}$ and $\\vec b = \\begin{bmatrix}4 \\\\ 5 \\\\ 6 \\end{bmatrix}$, represented as NumPy arrays. Leveraging NumPy's inherent ability to perform element-wise operations, we effortlessly compute the sum of these vectors using the $+$ operator. The resulting result_vector showcases how NumPy simplifies and enhances the efficiency of vector addition, making it an indispensable tool for mathematical operations in the Python ecosystem.\n",
    "\n",
    "$$\n",
    "\\vec a + \\vec b = \\begin{bmatrix}1 \\\\ 2 \\\\ 3 \\end{bmatrix} + \\begin{bmatrix}4 \\\\ 5 \\\\ 6 \\end{bmatrix} =  \\begin{bmatrix}5 \\\\ 7 \\\\ 9 \\end{bmatrix} = \\vec c\n",
    "$$"
   ]
  },
  {
   "cell_type": "code",
   "execution_count": 11,
   "metadata": {},
   "outputs": [
    {
     "data": {
      "text/plain": [
       "array([5, 7, 9])"
      ]
     },
     "execution_count": 11,
     "metadata": {},
     "output_type": "execute_result"
    }
   ],
   "source": [
    "import numpy as np\n",
    "\n",
    "# Example vectors\n",
    "a = np.array([1, 2, 3])\n",
    "b = np.array([4, 5, 6])\n",
    "\n",
    "# Perform vector addition\n",
    "c = a + b\n",
    "c"
   ]
  },
  {
   "cell_type": "markdown",
   "metadata": {},
   "source": [
    "Let's explore another type of sum using NumPy's sum function along a specific axis. The numpy.sum function allows us to calculate the sum of array elements along a specified axis.\n",
    "\n",
    "Here's an example with a vector:"
   ]
  },
  {
   "cell_type": "code",
   "execution_count": 17,
   "metadata": {},
   "outputs": [
    {
     "name": "stdout",
     "output_type": "stream",
     "text": [
      "The sum of elements in the vector is 8.2\n"
     ]
    }
   ],
   "source": [
    "# Importing necessary libraries\n",
    "import numpy as np\n",
    "\n",
    "# Example vector\n",
    "v = np.array([1, .2, 3, 4])\n",
    "\n",
    "# Calculating the sum of elements in the vector\n",
    "v_sum = np.sum(v)\n",
    "\n",
    "# Display the total sum\n",
    "print(\"The sum of elements in the vector is\", v_sum) # 8.2 = 1 + .2 + 3 + 4 = v_sum"
   ]
  },
  {
   "cell_type": "markdown",
   "metadata": {},
   "source": [
    "This kind of sum, utilizing **numpy.sum** along a specified axis, is particularly powerful when dealing with multi-dimensional arrays. It allows us to focus on the summation operation along a specific dimension, providing a versatile tool for array manipulation and analysis. In the case of vectors, as illustrated in the example above, it conveniently computes the total sum of all elements in the array. However, as we delve into more complex data structures like matrices and tensors, specifying the axis becomes crucial for obtaining meaningful results and gaining insights into the structure of the data. Let's explore further with examples involving matrices and tensors to showcase the versatility of **numpy.sum** along different axes."
   ]
  },
  {
   "cell_type": "markdown",
   "metadata": {},
   "source": [
    "## Matrix Addition\n",
    "\n",
    "Now, our focus shifts to matrices—two-dimensional arrays that serve as fundamental structures in various scientific and computational domains.\n",
    "\n",
    "In the cell below, we define two example matrices,\n",
    "\n",
    "$$\n",
    "\\textbf{A}_{33} = \\begin{bmatrix} \n",
    "1 \\ \\ 2 \\ \\ 3\\\\\n",
    "4 \\ \\ 5 \\ \\ 6\\\\\n",
    "7 \\ \\ 8 \\ \\ 9\n",
    "\\end{bmatrix} \\in \\mathbb{R}^{3 \\times 3} \\quad \\text{and} \\quad \\textbf{B}_{33} = \\begin{bmatrix} \n",
    "9&\\ &12 \\ & 0\\\\\n",
    "5&\\ &-5 \\ & 1\\\\\n",
    "-7&\\ & 8  \\ &4.2\n",
    "\\end{bmatrix} \\in \\mathbb{R}^{3 \\times 3},\n",
    "$$\n",
    "as NumPy arrays. Leveraging NumPy's vectorized operations, the + operator facilitates the addition of these matrices element-wise. The resulting result_matrix showcases how NumPy streamlines matrix addition, providing a clear and concise syntax for handling complex mathematical operations."
   ]
  },
  {
   "cell_type": "code",
   "execution_count": 19,
   "metadata": {},
   "outputs": [
    {
     "name": "stdout",
     "output_type": "stream",
     "text": [
      "The sum of A and B is:\n",
      " [[10.  14.   3. ]\n",
      " [ 9.   0.   7. ]\n",
      " [ 0.  16.  13.2]]\n"
     ]
    }
   ],
   "source": [
    "import numpy as np\n",
    "\n",
    "# Matrix A\n",
    "A = np.array([[1, 2, 3],\n",
    "              [4, 5, 6],\n",
    "              [7, 8, 9]])\n",
    "\n",
    "# Matrix B\n",
    "B = np.array([[9, 12, 0],\n",
    "              [5, -5, 1],\n",
    "              [-7, 8, 4.2]])\n",
    "\n",
    "# Matrix addition\n",
    "C = A + B\n",
    "\n",
    "# Display the result\n",
    "print(\"The sum of A and B is:\\n\", C)"
   ]
  },
  {
   "cell_type": "markdown",
   "metadata": {},
   "source": [
    "In the second cell, we define two example matrices, matrix_a and matrix_b, as NumPy arrays. Leveraging NumPy's vectorized operations, the + operator facilitates the addition of these matrices element-wise. The resulting result_matrix showcases how NumPy streamlines matrix addition, providing a clear and concise syntax for handling complex mathematical operations."
   ]
  },
  {
   "cell_type": "markdown",
   "metadata": {},
   "source": []
  }
 ],
 "metadata": {
  "kernelspec": {
   "display_name": "datas",
   "language": "python",
   "name": "python3"
  },
  "language_info": {
   "codemirror_mode": {
    "name": "ipython",
    "version": 3
   },
   "file_extension": ".py",
   "mimetype": "text/x-python",
   "name": "python",
   "nbconvert_exporter": "python",
   "pygments_lexer": "ipython3",
   "version": "3.10.11"
  }
 },
 "nbformat": 4,
 "nbformat_minor": 2
}
