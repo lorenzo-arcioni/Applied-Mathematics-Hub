{
 "cells": [
  {
   "cell_type": "markdown",
   "metadata": {},
   "source": [
    "# Linear Algebra exercises"
   ]
  },
  {
   "cell_type": "code",
   "execution_count": 16,
   "metadata": {},
   "outputs": [],
   "source": [
    "import numpy as np\n",
    "import matplotlib.pyplot as plt\n",
    "import sympy as sp\n",
    "from sympy import Matrix, latex\n",
    "from IPython.display import display, Latex"
   ]
  },
  {
   "cell_type": "markdown",
   "metadata": {},
   "source": [
    "Consider these two matrices\n",
    "\n",
    "$$\\large\n",
    "A = \\begin{bmatrix}\n",
    "1 \\ \\ 2 \\ \\ 3\\\\\n",
    "4 \\ \\ 5 \\ \\ 6\\\\\n",
    "7 \\ \\ 8 \\ \\ 9\\\\\n",
    "\\end{bmatrix} \\quad\n",
    "B = \\begin{bmatrix}\n",
    "1 \\ \\ 1 \\ \\ 0\\\\\n",
    "0 \\ \\ 1 \\ \\ 1 \\\\\n",
    "1 \\ \\ 0 \\ \\ 1\\\\\n",
    "\\end{bmatrix}\n",
    "$$\n",
    "\n",
    "Calculate the product $\\textbf A \\cdot \\textbf B$ and $\\textbf B \\cdot \\textbf A$."
   ]
  },
  {
   "cell_type": "code",
   "execution_count": 4,
   "metadata": {},
   "outputs": [
    {
     "name": "stdout",
     "output_type": "stream",
     "text": [
      "A @ B =\n",
      " [[ 4  3  5]\n",
      " [10  9 11]\n",
      " [16 15 17]]\n",
      "B @ A =\n",
      " [[ 5  7  9]\n",
      " [11 13 15]\n",
      " [ 8 10 12]]\n"
     ]
    }
   ],
   "source": [
    "A = np.array([\n",
    "    [1, 2, 3],\n",
    "    [4, 5, 6],\n",
    "    [7, 8, 9],\n",
    "])\n",
    "\n",
    "B = np.array([\n",
    "    [1, 1, 0],\n",
    "    [0, 1, 1],\n",
    "    [1, 0, 1]\n",
    "])\n",
    "\n",
    "A_B = A @ B\n",
    "B_A = B @ A\n",
    "\n",
    "print(\"A @ B =\\n\", A_B)\n",
    "print(\"B @ A =\\n\", B_A)"
   ]
  },
  {
   "cell_type": "markdown",
   "metadata": {},
   "source": [
    "Find the set of all inhomogeneous linear systems $\\textbf A\\vec x = \\vec b$ where \n",
    "\n",
    "$$\\large\n",
    "A = \\left[\\begin{matrix}1 & -1 & 0 & 0 & 1\\\\1 & 1 & 0 & -3 & 0\\\\2 & -1 & 0 & 1 & -1\\\\-1 & 2 & 0 & -2 & -1\\end{matrix}\\right]\\quad\n",
    "b = \\begin{bmatrix}\n",
    "3 \\\\\n",
    "6 \\\\\n",
    "5 \\\\\n",
    "-1\n",
    "\\end{bmatrix}\n",
    "$$"
   ]
  },
  {
   "cell_type": "code",
   "execution_count": 23,
   "metadata": {},
   "outputs": [
    {
     "data": {
      "text/latex": [
       "$\\Large \\left[\\begin{matrix}1 & -1 & 0 & 0 & 1\\\\1 & 1 & 0 & -3 & 0\\\\2 & -1 & 0 & 1 & -1\\\\-1 & 2 & 0 & -2 & -1\\end{matrix}\\right] \\cdot \\left[\\begin{matrix}x_{1}\\\\x_{2}\\\\x_{3}\\\\x_{4}\\\\x_{5}\\end{matrix}\\right] = \\left[\\begin{matrix}3\\\\6\\\\5\\\\-1\\end{matrix}\\right]$"
      ],
      "text/plain": [
       "<IPython.core.display.Latex object>"
      ]
     },
     "metadata": {},
     "output_type": "display_data"
    },
    {
     "data": {
      "text/latex": [
       "$\\Large \\left( \\left[\\begin{matrix}1 & 0 & 0 & 0 & -1 & 3\\\\0 & 1 & 0 & 0 & -2 & 0\\\\0 & 0 & 0 & 1 & -1 & -1\\\\0 & 0 & 0 & 0 & 0 & 0\\end{matrix}\\right], \\  \\left( 0, \\  1, \\  3\\right)\\right)$"
      ],
      "text/plain": [
       "<IPython.core.display.Latex object>"
      ]
     },
     "metadata": {},
     "output_type": "display_data"
    },
    {
     "data": {
      "text/latex": [
       "$\\Large \\left[\\begin{matrix}x_{1}\\\\x_{2}\\\\x_{3}\\\\x_{4}\\\\x_{5}\\end{matrix}\\right] = \\left[\\begin{matrix}\\tau_{1} + 3\\\\2 \\tau_{1}\\\\\\tau_{0}\\\\\\tau_{1} - 1\\\\\\tau_{1}\\end{matrix}\\right]$"
      ],
      "text/plain": [
       "<IPython.core.display.Latex object>"
      ]
     },
     "metadata": {},
     "output_type": "display_data"
    }
   ],
   "source": [
    "A = np.array([\n",
    "    [1, -1, 0, 0, 1],\n",
    "    [1, 1, 0, -3, 0],\n",
    "    [2, -1, 0, 1, -1],\n",
    "    [-1, 2, 0,-2, -1],\n",
    "])\n",
    "\n",
    "b = np.array([\n",
    "    [3, 6, 5, -1]\n",
    "]).T\n",
    "\n",
    "A = sp.Matrix(A)\n",
    "b = sp.Matrix(b)\n",
    "\n",
    "sol, params = A.gauss_jordan_solve(b)\n",
    "\n",
    "display(Latex(\"$\\Large \" + latex(A) + \" \\cdot \" + latex(Matrix([\"x_{}\".format(i) for i in range(1, A.shape[1]+1)])) + \" = \" + latex(b) +\"$\"))\n",
    "\n",
    "display(Latex(\"$\\Large \" + latex(A.col_insert(6, b).rref()) +\"$\"))\n",
    "\n",
    "display(Latex(\"$\\Large \" + latex(Matrix([\"x_{}\".format(i) for i in range(1, A.shape[1]+1)])) + \" = \" + latex(sol) + \"$\"))"
   ]
  },
  {
   "cell_type": "code",
   "execution_count": 63,
   "metadata": {},
   "outputs": [
    {
     "name": "stdout",
     "output_type": "stream",
     "text": [
      "(3, 4, 3, 4)\n",
      "4\n"
     ]
    }
   ],
   "source": [
    "'''\n",
    "Aug12-2018\n",
    "Mahesh Babu Mariappan (https://www.linkedin.com/in/mahesh-babu-mariappan)\n",
    "Source code for example of a 4d tensor\n",
    "results:\n",
    "x.shape\n",
    "x.ndim\n",
    "(4, 2, 3, 4)\n",
    "4\n",
    "'''\n",
    "\n",
    "import numpy as np\n",
    "\n",
    "A = np.array(\n",
    "  [\n",
    "    [1, 2, 3],\n",
    "    [4, 5, 6],\n",
    "    [7, 8, 9],\n",
    "  ]\n",
    ")\n",
    "\n",
    "B = np.array(\n",
    "  [\n",
    "    [1, 1, 0, 0],\n",
    "    [0, 1, 1, 0],\n",
    "    [1, 0, 1, 0],\n",
    "  ]\n",
    ")\n",
    "\n",
    "x  = np.array(\n",
    "  [\n",
    "    [\n",
    "      [ \n",
    "        [1,2,3,6],\n",
    "        [4,5,6,6],\n",
    "        [7,6,3,6]\n",
    "      ],\n",
    "      [ \n",
    "        [5,4,5,7],\n",
    "        [4,5,7,7],\n",
    "        [3,6,4,7] \n",
    "      ],\n",
    "      [\n",
    "        [1,2,3,4],\n",
    "        [4,5,6,4],\n",
    "        [7,6,3,4]\n",
    "      ],\n",
    "      [\n",
    "        [1,2,3,4],\n",
    "        [4,5,6,4],\n",
    "        [7,6,3,4]\n",
    "      ],\n",
    "    ],\n",
    "    [\n",
    "      [ \n",
    "        [1,2,3,3],\n",
    "        [4,5,6,3],\n",
    "        [7,6,3,3]\n",
    "      ],\n",
    "      [ \n",
    "        [5,4,5,8],\n",
    "        [4,5,7,8],\n",
    "        [3,6,4,8] \n",
    "      ],\n",
    "      [\n",
    "        [1,2,3,3],\n",
    "        [4,5,6,3],\n",
    "        [7,6,3,3]\n",
    "      ],\n",
    "      [\n",
    "        [1,2,3,4],\n",
    "        [4,5,6,4],\n",
    "        [7,6,3,4]\n",
    "      ],\n",
    "    ],\n",
    "    [\n",
    "      [ \n",
    "        [1,2,3,9],\n",
    "        [4,5,6,9],\n",
    "        [7,6,3,9]\n",
    "      ],\n",
    "      [ \n",
    "        [5,4,5,4],\n",
    "        [4,5,7,4],\n",
    "        [3,6,4,4] \n",
    "      ],\n",
    "      [\n",
    "        [1,2,3,2],\n",
    "        [4,5,6,2],\n",
    "        [7,6,3,2]\n",
    "      ],\n",
    "      [\n",
    "        [1,2,3,4],\n",
    "        [4,5,6,4],\n",
    "        [7,6,3,4]\n",
    "      ],\n",
    "    ]\n",
    "  ]\n",
    ")\n",
    "\n",
    "\n",
    "print(x.shape)\n",
    "print(x.ndim)\n",
    "\n",
    "v  = np.array(\n",
    "  [\n",
    "    [\n",
    "      [ \n",
    "        [1,2,3,],\n",
    "        [4,5,6,],\n",
    "        [7,6,3,]\n",
    "      ],\n",
    "      [ \n",
    "        [5,4,5,],\n",
    "        [4,5,7,],\n",
    "        [3,6,4,] \n",
    "      ],\n",
    "      [\n",
    "        [1,2,3,],\n",
    "        [4,5,6,],\n",
    "        [7,6,3,]\n",
    "      ]\n",
    "    ],\n",
    "    [\n",
    "      [ \n",
    "        [1,2,3,],\n",
    "        [4,5,6,],\n",
    "        [7,6,3,]\n",
    "      ],\n",
    "      [ \n",
    "        [5,4,5,],\n",
    "        [4,5,7,],\n",
    "        [3,6,4,] \n",
    "      ],\n",
    "      [\n",
    "        [1,2,3,],\n",
    "        [4,5,6,],\n",
    "        [7,6,3,]\n",
    "      ]\n",
    "    ],\n",
    "    [\n",
    "      [ \n",
    "        [1,2,3,],\n",
    "        [4,5,6,],\n",
    "        [7,6,3,]\n",
    "      ],\n",
    "      [ \n",
    "        [5,4,5,],\n",
    "        [4,5,7,],\n",
    "        [3,6,4,] \n",
    "      ],\n",
    "      [\n",
    "        [1,2,3,],\n",
    "        [4,5,6,],\n",
    "        [7,6,3,]\n",
    "      ]\n",
    "    ],\n",
    "  ]\n",
    ")"
   ]
  },
  {
   "cell_type": "code",
   "execution_count": 64,
   "metadata": {},
   "outputs": [
    {
     "data": {
      "text/plain": [
       "(3, 4, 3, 4)"
      ]
     },
     "execution_count": 64,
     "metadata": {},
     "output_type": "execute_result"
    }
   ],
   "source": [
    "x.shape"
   ]
  },
  {
   "cell_type": "code",
   "execution_count": 65,
   "metadata": {},
   "outputs": [
    {
     "data": {
      "text/plain": [
       "(3, 3, 3, 3)"
      ]
     },
     "execution_count": 65,
     "metadata": {},
     "output_type": "execute_result"
    }
   ],
   "source": [
    "v.shape"
   ]
  },
  {
   "cell_type": "code",
   "execution_count": 69,
   "metadata": {},
   "outputs": [
    {
     "ename": "ValueError",
     "evalue": "shape-mismatch for sum",
     "output_type": "error",
     "traceback": [
      "\u001b[0;31m---------------------------------------------------------------------------\u001b[0m",
      "\u001b[0;31mValueError\u001b[0m                                Traceback (most recent call last)",
      "Cell \u001b[0;32mIn[69], line 1\u001b[0m\n\u001b[0;32m----> 1\u001b[0m \u001b[43mnp\u001b[49m\u001b[38;5;241;43m.\u001b[39;49m\u001b[43mtensordot\u001b[49m\u001b[43m(\u001b[49m\u001b[43mx\u001b[49m\u001b[43m,\u001b[49m\u001b[43m \u001b[49m\u001b[43mv\u001b[49m\u001b[43m)\u001b[49m\n",
      "File \u001b[0;32m~/miniconda3/envs/datas/lib/python3.10/site-packages/numpy/core/numeric.py:1099\u001b[0m, in \u001b[0;36mtensordot\u001b[0;34m(a, b, axes)\u001b[0m\n\u001b[1;32m   1097\u001b[0m             axes_b[k] \u001b[38;5;241m+\u001b[39m\u001b[38;5;241m=\u001b[39m ndb\n\u001b[1;32m   1098\u001b[0m \u001b[38;5;28;01mif\u001b[39;00m \u001b[38;5;129;01mnot\u001b[39;00m equal:\n\u001b[0;32m-> 1099\u001b[0m     \u001b[38;5;28;01mraise\u001b[39;00m \u001b[38;5;167;01mValueError\u001b[39;00m(\u001b[38;5;124m\"\u001b[39m\u001b[38;5;124mshape-mismatch for sum\u001b[39m\u001b[38;5;124m\"\u001b[39m)\n\u001b[1;32m   1101\u001b[0m \u001b[38;5;66;03m# Move the axes to sum over to the end of \"a\"\u001b[39;00m\n\u001b[1;32m   1102\u001b[0m \u001b[38;5;66;03m# and to the front of \"b\"\u001b[39;00m\n\u001b[1;32m   1103\u001b[0m notin \u001b[38;5;241m=\u001b[39m [k \u001b[38;5;28;01mfor\u001b[39;00m k \u001b[38;5;129;01min\u001b[39;00m \u001b[38;5;28mrange\u001b[39m(nda) \u001b[38;5;28;01mif\u001b[39;00m k \u001b[38;5;129;01mnot\u001b[39;00m \u001b[38;5;129;01min\u001b[39;00m axes_a]\n",
      "\u001b[0;31mValueError\u001b[0m: shape-mismatch for sum"
     ]
    }
   ],
   "source": [
    "np.tensordot(x, v)"
   ]
  },
  {
   "cell_type": "code",
   "execution_count": 213,
   "metadata": {},
   "outputs": [
    {
     "name": "stdout",
     "output_type": "stream",
     "text": [
      "A =\n",
      " [[[ 0  1  2]\n",
      "  [ 3  4  5]]\n",
      "\n",
      " [[ 6  7  8]\n",
      "  [ 9 10 11]]]\n",
      "Dimensione di A: (2, 2, 3)\n",
      "B =\n",
      " [0 1 2]\n",
      "Dimensione di B: (3,)\n",
      "Risultato:\n",
      " [[ 5 14]\n",
      " [23 32]]\n",
      "Risultato-shape: (2, 2)\n"
     ]
    }
   ],
   "source": [
    "import numpy as np\n",
    "\n",
    "A = np.arange(12).reshape(2, 2, 3)\n",
    "B = np.arange(3).reshape(3)\n",
    "\n",
    "# Contrazione sugli assi 2 di A e 1 di B\n",
    "result = np.tensordot(A, B, axes=((2), (0)))\n",
    "\n",
    "print(\"A =\\n\", A)\n",
    "print(\"Dimensione di A:\", A.shape)\n",
    "print(\"B =\\n\", B)\n",
    "print(\"Dimensione di B:\", B.shape)\n",
    "print(\"Risultato:\\n\", result)\n",
    "print(\"Risultato-shape:\", result.shape)"
   ]
  },
  {
   "cell_type": "code",
   "execution_count": 200,
   "metadata": {},
   "outputs": [
    {
     "name": "stdout",
     "output_type": "stream",
     "text": [
      "A =\n",
      " [[[ 0  1  2]\n",
      "  [ 3  4  5]]\n",
      "\n",
      " [[ 6  7  8]\n",
      "  [ 9 10 11]]]\n",
      "Dimensione di A: (2, 2, 3)\n",
      "B =\n",
      " [[[ 0  1  2]\n",
      "  [ 3  4  5]\n",
      "  [ 6  7  8]]\n",
      "\n",
      " [[ 9 10 11]\n",
      "  [12 13 14]\n",
      "  [15 16 17]]]\n",
      "Dimensione di B: (2, 3, 3)\n",
      "Risultato:\n",
      " [[127 172 217]\n",
      " [325 478 631]]\n",
      "Risultato-shape: (2, 3)\n"
     ]
    }
   ],
   "source": [
    "import numpy as np\n",
    "\n",
    "A = np.arange(12).reshape(2, 2, 3)\n",
    "B = np.arange(18).reshape(2, 3, 3)\n",
    "\n",
    "# Contrazione sugli assi 2 di A e 1 di B\n",
    "result = np.tensordot(A, B, axes=((2, 1), (2, 0)))\n",
    "\n",
    "print(\"A =\\n\", A)\n",
    "print(\"Dimensione di A:\", A.shape)\n",
    "print(\"B =\\n\", B)\n",
    "print(\"Dimensione di B:\", B.shape)\n",
    "print(\"Risultato:\\n\", result)\n",
    "print(\"Risultato-shape:\", result.shape)"
   ]
  },
  {
   "cell_type": "code",
   "execution_count": 153,
   "metadata": {},
   "outputs": [
    {
     "data": {
      "text/plain": [
       "array([[ 3,  4,  5],\n",
       "       [ 9, 14, 19],\n",
       "       [15, 24, 33]])"
      ]
     },
     "execution_count": 153,
     "metadata": {},
     "output_type": "execute_result"
    }
   ],
   "source": [
    "A @ B"
   ]
  },
  {
   "cell_type": "code",
   "execution_count": 154,
   "metadata": {},
   "outputs": [
    {
     "data": {
      "text/plain": [
       "array([[10, 13],\n",
       "       [28, 40]])"
      ]
     },
     "execution_count": 154,
     "metadata": {},
     "output_type": "execute_result"
    }
   ],
   "source": [
    "B@A"
   ]
  },
  {
   "cell_type": "code",
   "execution_count": null,
   "metadata": {},
   "outputs": [],
   "source": []
  }
 ],
 "metadata": {
  "kernelspec": {
   "display_name": "datas",
   "language": "python",
   "name": "python3"
  },
  "language_info": {
   "codemirror_mode": {
    "name": "ipython",
    "version": 3
   },
   "file_extension": ".py",
   "mimetype": "text/x-python",
   "name": "python",
   "nbconvert_exporter": "python",
   "pygments_lexer": "ipython3",
   "version": "3.10.11"
  }
 },
 "nbformat": 4,
 "nbformat_minor": 2
}
