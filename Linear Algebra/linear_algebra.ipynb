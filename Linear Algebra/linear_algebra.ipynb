{
 "cells": [
  {
   "cell_type": "markdown",
   "metadata": {},
   "source": [
    "# Linear Algebra\n",
    "\n",
    "Linear algebra is the study of vectors and certain\n",
    "rules to manipulate vectors.\n",
    "\n",
    "In general, vectors are special objects that can be added together and\n",
    "multiplied by scalars to produce another object of the same kind. From\n",
    "an abstract mathematical viewpoint, any object that satisfies these two\n",
    "properties can be considered a vector. \n",
    "\n",
    "For example: $\\vec{a}, \\vec{b} \\in \\mathbb{R}^3$ are vectors:\n",
    "\n",
    "$$\\large\n",
    "\\vec{a} = \\begin{bmatrix}1 \\\\ 2 \\\\ 3 \\end{bmatrix} \\in \\mathbb{R}^3\n",
    "$$\n",
    "$$\\large\n",
    "\\vec{b} = \\begin{bmatrix}4 \\\\ 5 \\\\ 6 \\end{bmatrix} \\in \\mathbb{R}^3\n",
    "$$"
   ]
  },
  {
   "cell_type": "markdown",
   "metadata": {},
   "source": [
    "## Vector space\n",
    "A vector space over a field $F$ is a non-empty set $V$ together with two binary operations that satisfy the eight axioms listed below. In this context, the elements of $V$ are commonly called vectors, and the elements of $F$ are called scalars.\n",
    "\n",
    "- The first operation, called vector addition or simply addition assigns to any two vectors $v$ and $w$ in $V$ a third vector in $V$ which is commonly written as $v + w$, and called the sum of these two vectors.\n",
    "- The second operation, called scalar multiplication，assigns to any scalar $a$ in $F$ and any vector $v$ in $V$ another vector in $V$, which is denoted $av$.\n",
    "\n",
    "$$\\large\n",
    "\\vec{a} + \\vec{b} = \\begin{bmatrix}1 \\\\ 2 \\\\ 3 \\end{bmatrix} + \\begin{bmatrix}4 \\\\ 5 \\\\ 6 \\end{bmatrix} = \\begin{bmatrix}1+4 \\\\ 2+5 \\\\ 6+3 \\end{bmatrix}\n",
    "$$\n",
    "\n",
    "$$\\large\n",
    "k \\cdot \\vec{a} = k \\cdot \\begin{bmatrix}1 \\\\ 2 \\\\ 3 \\end{bmatrix} = \\begin{bmatrix}k \\\\ 2k \\\\ 3k \\end{bmatrix}\n",
    "$$\n",
    "\n",
    "| Axiom                                       | Meaning                                                                               |\n",
    "|---------------------------------------------|---------------------------------------------------------------------------------------|\n",
    "| Associativity of vector addition              | $u + (v + w) = (u + v) + w$                                                        |\n",
    "| Commutativity of vector addition              | $u + v = v + u$                                                                     |\n",
    "| Identity element of vector addition          | There exists an element $0 \\in V$, called the zero vector, such that $v + 0 = v$ for all $v \\in V$ |\n",
    "| Inverse elements of vector addition          | For every $v \\in V$, there exists an element $-v \\in V$, called the additive inverse of $v$, such that $v + (-v) = 0$ |\n",
    "| Compatibility of scalar multiplication with field multiplication | $a(bv) = (ab)v$                                                                      |\n",
    "| Identity element of scalar multiplication   | $1v = v$, where $1$ denotes the multiplicative identity in $F$                 |\n",
    "| Distributivity of scalar multiplication with respect to vector addition | $a(u + v) = au + av$                                                           |\n",
    "| Distributivity of scalar multiplication with respect to field addition | $(a + b)v = av + bv$                                                              |\n",
    "\n",
    "### Linear combination\n",
    "\n",
    "Let $V$ be a vector space over the field $K$. As usual, we call elements of $V$ vectors and call elements of $K$ scalars. If $v_1, . \\ . \\ ., v_s \\in V$ are vectors and $a_1, . \\ . \\ ., a_s$ are scalars, then the linear combination of those vectors with those scalars as coefficients is \n",
    "\n",
    "$$\n",
    "a_1v_1 + \\dots + a_sv_s, \\quad a_1, . \\ . \\ ., a_s \\in K.\n",
    "$$\n",
    "\n",
    "### Linear (in)dependence\n",
    "\n",
    "A sequence of vectors $\\mathbf{v}_1, \\mathbf{v}_2, \\ldots, \\mathbf{v}_k$ from a vector space $V$ is said to be linearly dependent if there exist scalars $a_1, a_2, \\ldots, a_k$, not all zero, such that\n",
    "\n",
    "$$a_1 \\mathbf{v}_1 + a_2 \\mathbf{v}_2 + \\ldots + a_k \\mathbf{v}_k = \\mathbf{0},$$\n",
    "\n",
    "where $\\mathbf{0}$ denotes the zero vector.\n",
    "\n",
    "This implies that at least one of the scalars is nonzero, say $a_1 \\neq 0$, and the above equation is able to be written as\n",
    "\n",
    "$$\\mathbf{v}_1 = -\\frac{a_2}{a_1} \\mathbf{v}_2 + \\ldots + -\\frac{a_k}{a_1} \\mathbf{v}_k,$$\n",
    "\n",
    "if $k > 1$, and $\\mathbf{v}_1 = \\mathbf{0}$ if $k = 1$.\n",
    "\n",
    "Thus, a set of vectors is linearly dependent if and only if one of them is zero or a linear combination of the others.\n",
    "\n",
    "A sequence of vectors $\\mathbf{v}_1, \\mathbf{v}_2, \\ldots, \\mathbf{v}_n$ is said to be linearly independent if it is not linearly dependent, that is, if the equation\n",
    "\n",
    "$$a_1 \\mathbf{v}_1 + a_2 \\mathbf{v}_2 + \\ldots + a_n \\mathbf{v}_n = \\mathbf{0},$$\n",
    "\n",
    "can only be satisfied by $a_i = 0$ for $i = 1, \\ldots, n$. This implies that no vector in the sequence can be represented as a linear combination of the remaining vectors in the sequence.\n",
    "\n",
    "### Span\n",
    "\n",
    "Given a vector space $V$ over a field $K$, the span of a set $S$ of vectors (not necessarily finite) is defined to be the intersection $W$ of all subspaces of $V$ that contain $S$. $W$ is referred to as the subspace spanned by $S$, or by the vectors in $S$. Conversely, $S$ is called a spanning set of $W$, and we say that $S$ spans $W$.\n",
    "\n",
    "Alternatively, the span of $S$ may be defined as the set of all finite linear combinations of elements (vectors) of $S$, which follows from the above definition.\n",
    "\n",
    "$$\n",
    "\\text{span}(S) = \\left\\{ \\sum_{i=1}^k \\lambda_i \\mathbf{v}_i \\ \\middle| \\ k \\in \\mathbb{N}, \\mathbf{v}_i \\in S, \\lambda_i \\in K \\right\\}\n",
    "$$\n",
    "\n",
    "In the case of infinite $S$, infinite linear combinations (i.e. where a combination may involve an infinite sum, assuming that such sums are defined somehow as in, say, a Banach space) are excluded by the definition; a generalization that allows these is not equivalent.\n",
    "\n",
    "### Basis\n",
    "\n",
    "A basis $B$ of a vector space $V$ over a field $F$ (such as the real numbers R or the complex numbers $C$) is a maximal linearly independent subset of $V$ and a minimal generating set that spans $V$. This means that a subset $B$ of $V$ is a basis if it satisfies the two following conditions:\n",
    "\n",
    "- **Linear independence**\n",
    "    For every finite subset ${\\displaystyle \\{\\mathbf {v} _{1},\\dotsc ,\\mathbf {v} _{m}\\}}$ of $B$, if ${\\displaystyle c_{1}\\mathbf {v} _{1}+\\cdots +c_{m}\\mathbf {v} _{m}=\\mathbf {0} }$ for some ${\\displaystyle c_{1},\\dotsc ,c_{m}}$ in $F$, then ${\\displaystyle c_{1}=\\cdots =c_{m}=0}$;\n",
    "- **Spanning property**\n",
    "    For every vector $\\mathbf{v}$ in $V$, one can choose ${\\displaystyle a_{1},\\dotsc ,a_{n}}$ in $F$ and ${\\displaystyle \\mathbf {v} _{1},\\dotsc ,\\mathbf {v} _{n}}$ in $B$ such that ${\\displaystyle \\mathbf {v} =a_{1}\\mathbf {v} _{1}+\\cdots +a_{n}\\mathbf {v} _{n}}$.\n",
    "\n",
    "The scalars $a_{i}$ are called the coordinates of the vector $\\mathbf{v}$ with respect to the basis $B$, and by the first property they are uniquely determined.\n",
    "\n",
    "For example in $\\mathbb{R}^n$ vector space, the vectors $\\mathbf{e}_1 = (1, 0, 0, . \\ . \\ ., 0)$; $\\mathbf{e}_2 = (0, 1, 0, . \\ . \\ ., 0)$; . . .; $\\mathbf{e}_n = (0, 0, 0, . \\ . \\ ., 1)$ are a basis (known as canonical basis) also known as $\\xi_n$.\n",
    "\n",
    "In a vector space, the coordinates of a vector with respect to a given basis are unique. Specifically, let $V$ be a vector space and $B = \\{\\mathbf{v}_1, \\mathbf{v}_2, \\ldots, \\mathbf{v}_n\\}$ be a basis for $V$. For any vector $\\mathbf{v} \\in V$, there exists a unique set of scalars $c_1, c_2, \\ldots, c_n$ such that:\n",
    "\n",
    "$$\n",
    "\\mathbf{v} = c_1 \\mathbf{v}_1 + c_2 \\mathbf{v}_2 + \\ldots + c_n \\mathbf{v}_n\n",
    "$$\n",
    "\n",
    "This uniqueness property ensures that the coordinates of $\\mathbf{v}$ in terms of the basis $B$ are well-defined and distinct.\n",
    "Every vector space $V \\neq \\{\\mathbf{0}_V\\}$ posses a basis.\n",
    "\n",
    "We now define the vector $x_{B}(\\mathbf{v})$ as the coordinates vector of a vector $\\mathbf{v}$ expressed in the $B$ basis.\n",
    "\n",
    "**Example**\n",
    "In $\\mathbb{R}^2$, let be $B_1 = \\{(1, 1), (1, 0)\\}$ and $B_2 = \\{(1, -1), (0, 1)\\}$ two basis of vector space.\n",
    "\n",
    "The vector $\\mathbf{v} =\n",
    "    \\begin{bmatrix} \n",
    "    3 \\\\\n",
    "    2\n",
    "    \\end{bmatrix}\n",
    "$\n",
    "can be expressed as linear combination of $B_1$\n",
    "\n",
    "$$\n",
    "\\mathbf{v} = 2 \\cdot \\begin{bmatrix} 1 \\\\ 1 \\end{bmatrix} + 1 \\cdot \\begin{bmatrix} 1 \\\\ 0 \\end{bmatrix}\n",
    "$$\n",
    "\n",
    "So ${x_B}_1(\\mathbf{v}) = \\displaystyle \\binom{2}{1}_{B_1} $, but also can be expressed as linear combination of $B_2$\n",
    "\n",
    "$$\n",
    "\\mathbf{v} = 3 \\cdot \\begin{bmatrix} 1 \\\\ -1 \\end{bmatrix} + 5 \\cdot \\begin{bmatrix} 0 \\\\ 1 \\end{bmatrix}\n",
    "$$\n",
    "\n",
    "So ${x_B}_2(\\mathbf{v}) = \\displaystyle \\binom{3}{5}_{B_2} $.\n",
    "\n",
    "And respect to the canonical basis $\\xi_2$\n",
    "\n",
    "$$\n",
    "\\mathbf{v} = 3 \\cdot \\begin{bmatrix} 1 \\\\ 0 \\end{bmatrix} + 2 \\cdot \\begin{bmatrix} 0 \\\\ 1 \\end{bmatrix}\n",
    "$$\n",
    "\n",
    "So ${x_{\\xi_2}}(\\mathbf{v}) = \\displaystyle \\binom{3}{2}_{\\xi_2} $."
   ]
  },
  {
   "cell_type": "markdown",
   "metadata": {},
   "source": [
    "## Matrices\n",
    "\n",
    "**Definition** (Matrix): With $m, n ∈ N$ a real-valued $(m, n)$ matrix $A$ is\n",
    "an $m·n$-tuple of elements $a_{ij}$ , $i = 1, . . . , m$, $j = 1, . . . , n$, which is ordered according to a rectangular scheme consisting of $m$ rows and $n$ columns:\n",
    "\n",
    "$$\n",
    "\\large\n",
    "A =\n",
    "\\begin{bmatrix} \n",
    "    a_{11} & a_{12} & \\dots & a_{1n}\\\\\n",
    "    a_{21} & a_{22} & \\dots & a_{2n}\\\\\n",
    "    \\vdots & \\vdots & \\ddots & \\vdots \\\\\n",
    "    a_{m1} & a_{m2} & \\dots & a_{mn} \n",
    "\\end{bmatrix}\n",
    ", \\quad a_{ij} \\in \\mathbb{R}.\n",
    "$$\n",
    "\n",
    "The entrywise sum of two matrices $A ∈ \\mathbb{R}^{m×n}$ , $B ∈ \\mathbb{R}^{m×n}$ is defined as the element-\n",
    "wise sum, i.e.,\n",
    "\n",
    "$$\n",
    "A + B =\n",
    "\\begin{bmatrix} \n",
    "    a_{11} + b_{11} & \\dots & a_{1n} + b_{1n}\\\\\n",
    "    \\vdots &  & \\vdots \\\\\n",
    "    a_{m1} + b_{m1} & \\dots & a_{mn} + b_{mn}\\\\ \n",
    "\\end{bmatrix} \\in \\mathbb{R}^{m \\times n}.\n",
    "$$"
   ]
  },
  {
   "cell_type": "code",
   "execution_count": 5,
   "metadata": {},
   "outputs": [
    {
     "name": "stdout",
     "output_type": "stream",
     "text": [
      "A matrix:\n",
      " [[ 2  4]\n",
      " [ 5 -6]\n",
      " [ 0  8]]\n",
      "\n",
      "B matrix:\n",
      " [[1 2]\n",
      " [3 4]\n",
      " [5 6]]\n",
      "\n",
      "C matrix:\n",
      " [[ 3  6]\n",
      " [ 8 -2]\n",
      " [ 5 14]]\n"
     ]
    }
   ],
   "source": [
    "# Sum of two matrices m x n\n",
    "import numpy as np\n",
    "\n",
    "A = np.mat([[2, 4], [5, -6], [0, 8]])\n",
    "B = np.mat([[1, 2], [3, 4], [5, 6]])\n",
    "\n",
    "C = A + B\n",
    "\n",
    "print(\"A matrix:\\n\", A)\n",
    "print()\n",
    "print(\"B matrix:\\n\", B)\n",
    "print()\n",
    "print(\"C matrix:\\n\", C)"
   ]
  },
  {
   "cell_type": "markdown",
   "metadata": {},
   "source": [
    "For matrices $A \\in \\mathbb{R}^{m \\times n}$, $B \\in \\mathbb{R}^{n \\times k}$, the elements $c_{ij}$ of the product $C = AB \\in \\mathbb{R}^{m \\times k}$ are computed as \n",
    "\n",
    "$$\\large\n",
    "c_{ij} = \\sum_{l=1}^n a_{il}b_{lj}, \\quad i = 1, \\ . \\ . \\ . \\ , \\ m \\land j = 1, \\ . \\ . \\ . \\ , \\ k.\n",
    "$$"
   ]
  },
  {
   "cell_type": "code",
   "execution_count": 17,
   "metadata": {},
   "outputs": [
    {
     "name": "stdout",
     "output_type": "stream",
     "text": [
      "A matrix:\n",
      " [[1 2 3]\n",
      " [3 2 1]]\n",
      "\n",
      "B matrix:\n",
      " [[ 0  2]\n",
      " [ 1 -1]\n",
      " [ 0  1]]\n",
      "\n",
      "A * B matrix:\n",
      " [[2 3]\n",
      " [2 5]]\n",
      "\n",
      "B * A matrix:\n",
      " [[ 6  4  2]\n",
      " [-2  0  2]\n",
      " [ 3  2  1]]\n"
     ]
    }
   ],
   "source": [
    "# Multiplication of two matrices\n",
    "import numpy as np\n",
    "\n",
    "A = np.mat([[1, 2, 3], [3, 2, 1]])\n",
    "B = np.mat([[0, 2], [1, -1], [0, 1]])\n",
    "\n",
    "# Matrix multiplication is not commutative\n",
    "C1 = A * B\n",
    "C2 = B * A\n",
    "\n",
    "print(\"A matrix:\\n\", A)\n",
    "print()\n",
    "print(\"B matrix:\\n\", B)\n",
    "print()\n",
    "print(\"A * B matrix:\\n\", C1)\n",
    "print()\n",
    "print(\"B * A matrix:\\n\", C2)"
   ]
  },
  {
   "cell_type": "markdown",
   "metadata": {},
   "source": [
    "There is an other eement-wise matrix product called Hadamard product, where each element $c_{ij}$ of new matrix is defined as\n",
    "\n",
    "$$\\large\n",
    "c_{ij} = a_{ij}b_{ij}, \\quad i = 1, \\ . \\ . \\ . \\ , \\ m \\land j = 1, \\ . \\ . \\ . \\ , \\ k.\n",
    "$$"
   ]
  },
  {
   "cell_type": "code",
   "execution_count": 1,
   "metadata": {},
   "outputs": [
    {
     "name": "stdout",
     "output_type": "stream",
     "text": [
      "[[ 5 12]\n",
      " [21 32]]\n"
     ]
    }
   ],
   "source": [
    "import numpy as np\n",
    "A = np.array([[1,2],[3,4]])\n",
    "B = np.array([[5,6],[7,8]])\n",
    "C = np.multiply(A,B)\n",
    "\n",
    "print(C)"
   ]
  },
  {
   "cell_type": "markdown",
   "metadata": {},
   "source": [
    "### Identity matrix\n",
    "\n",
    "In $\\mathbb{R}^{n \\times n}$, we define the *identity matrix* as the $n \\times n$-matrix containing 1 on the diagonal and 0 everywhere else.\n"
   ]
  },
  {
   "cell_type": "code",
   "execution_count": 2,
   "metadata": {},
   "outputs": [
    {
     "data": {
      "text/plain": [
       "array([[1., 0., 0., 0., 0.],\n",
       "       [0., 1., 0., 0., 0.],\n",
       "       [0., 0., 1., 0., 0.],\n",
       "       [0., 0., 0., 1., 0.],\n",
       "       [0., 0., 0., 0., 1.]])"
      ]
     },
     "execution_count": 2,
     "metadata": {},
     "output_type": "execute_result"
    }
   ],
   "source": [
    "import numpy as np\n",
    "\n",
    "np.identity(5)"
   ]
  },
  {
   "cell_type": "markdown",
   "metadata": {},
   "source": [
    "#### **Properties of Matrix Product**\n",
    "\n",
    "##### 1. Associativity\n",
    "   The matrix product is associative, i.e., for matrices A, B, and C of appropriate sizes:\n",
    "   $$(A \\cdot B) \\cdot C = A \\cdot (B \\cdot C)$$\n",
    "\n",
    "##### 2. Distributivity over Addition\n",
    "   The matrix product distributes over matrix addition, i.e., for matrices A, B, and C of appropriate sizes:\n",
    "   $$A \\cdot (B + C) = A \\cdot B + A \\cdot C$$\n",
    "\n",
    "##### 3. Not Commutative\n",
    "   In general, matrix multiplication is not commutative, i.e., \n",
    "   $$A \\cdot B \\neq B \\cdot A$$\n",
    "   for matrices A and B.\n",
    "\n",
    "##### 4. Identity Matrix\n",
    "   If I is the identity matrix of appropriate size, then for any matrix A:\n",
    "   $$I \\cdot A = A \\cdot I = A$$\n",
    "\n",
    "##### 5. Zero Matrix\n",
    "   If 0 is the zero matrix of appropriate size, then for any matrix A:\n",
    "   $$0 \\cdot A = A \\cdot 0 = 0$$\n",
    "\n",
    "##### 6. Size Compatibility\n",
    "   For the product $A \\cdot B$ to be defined, the number of columns in A must be equal to the number of rows in B.\n",
    "\n"
   ]
  },
  {
   "cell_type": "markdown",
   "metadata": {},
   "source": [
    "### Inverse Matrix\n",
    "\n",
    "##### Definition\n",
    "   Let $A$ be a square matrix. The inverse of matrix $A$, denoted as $A^{-1}$, is a matrix such that the product of $A$ and $A^{-1}$ equals the identity matrix $I$:\n",
    "   $$A \\cdot A^{-1} = A^{-1} \\cdot A = I$$\n",
    "\n",
    "##### Conditions for Existence\n",
    "   For a matrix $A$ to have an inverse:\n",
    "   - $A$ must be a square matrix.\n",
    "   - The determinant of $A$ ($\\det(A)$) must be non-zero.\n",
    "\n",
    "##### Uniqueness\n",
    "   If $A$ has an inverse, the inverse is unique.\n",
    "\n",
    "##### Notation\n",
    "   - $A^{-1}$: Inverse of matrix $A$.\n",
    "   - $AA^{-1} = A^{-1}A = I$: Multiplying a matrix by its inverse results in the identity matrix.\n",
    "\n",
    "Unfortunately, not every matrix $A$ possesses an inverse $A^{−1}$ . If this inverse does exist, $A$ is called regular/invertible/nonsingular, otherwise singular/noninvertible.\n"
   ]
  },
  {
   "cell_type": "code",
   "execution_count": 5,
   "metadata": {},
   "outputs": [
    {
     "name": "stdout",
     "output_type": "stream",
     "text": [
      "Original Matrix A:\n",
      "[[1 2 1]\n",
      " [4 4 5]\n",
      " [6 7 7]]\n",
      "\n",
      "Inverse Matrix A_inv:\n",
      "[[-7. -7.  6.]\n",
      " [ 2.  1. -1.]\n",
      " [ 4.  5. -4.]]\n",
      "\n",
      "Identity Matrix:\n",
      "[[ 1. -0.  0.]\n",
      " [-0.  1.  0.]\n",
      " [ 0. -0.  1.]]\n",
      "\n",
      "Verification (A * A_inv is approximately equal to the Identity Matrix):\n",
      "True\n"
     ]
    }
   ],
   "source": [
    "import numpy as np\n",
    "\n",
    "# Define a square matrix with integer values\n",
    "A = np.array([[1, 2, 1],\n",
    "              [4, 4, 5],\n",
    "              [6, 7, 7]])\n",
    "\n",
    "# Check if the matrix is invertible (has a non-zero determinant)\n",
    "det_A = np.linalg.det(A)\n",
    "if det_A != 0:\n",
    "    # Calculate the inverse matrix\n",
    "    A_inv = np.linalg.inv(A)\n",
    "\n",
    "    # Verify that A * A_inv equals the identity matrix\n",
    "    identity_matrix = np.dot(A, A_inv)\n",
    "\n",
    "    print(\"Original Matrix A:\")\n",
    "    print(A)\n",
    "    print(\"\\nInverse Matrix A_inv:\")\n",
    "    print(A_inv)\n",
    "    print(\"\\nIdentity Matrix:\")\n",
    "    print(np.round(identity_matrix))  # Round to handle floating-point precision\n",
    "\n",
    "    # Verify that A * A_inv is approximately equal to the identity matrix\n",
    "    print(\"\\nVerification (A * A_inv is approximately equal to the Identity Matrix):\")\n",
    "    print(np.allclose(identity_matrix, np.eye(A.shape[0], dtype=int)))\n",
    "else:\n",
    "    print(\"Matrix A is not invertible since its determinant is zero.\")"
   ]
  },
  {
   "cell_type": "markdown",
   "metadata": {},
   "source": [
    "### Transpose matrix\n",
    "\n",
    "**Definition** (Transpose). For $A ∈ R^{m×n}$ the matrix $B ∈ R^{n×m}$ with $b_{ij} = a_{ji}$ is called the transpose of $A$. We write $B = A^⊤$.\n",
    "\n",
    "In general, $A^T$ can be obtained by writing the columns of A as the rows of $A^⊤$.\n",
    "\n",
    "#### Transpose Matrix Properties\n",
    "\n",
    "##### 1. **Inverse Transpose**\n",
    "   $$AA^{-1} = A^{-1}A = I$$\n",
    "\n",
    "##### 2. **Not Necessarily Equal for Sum Inverse**\n",
    "   $$(A + B)^{-1} \\neq A^{-1} + B^{-1}$$\n",
    "\n",
    "##### 3. **Inverse of Product Transpose**\n",
    "   $$(AB)^{-1} = B^{-1}A^{-1}$$\n",
    "\n",
    "##### 4. **Sum Transpose**\n",
    "   $$(A + B)^{\\top} = A^{\\top} + B^{\\top}$$\n",
    "\n",
    "##### 5. **Transpose of Transpose**\n",
    "   $$(A^{\\top})^{\\top} = A$$\n",
    "\n",
    "##### 6. **Product Transpose**\n",
    "   $$(AB)^{\\top} = B^{\\top}A^{\\top}$$\n"
   ]
  },
  {
   "cell_type": "markdown",
   "metadata": {},
   "source": [
    "### Symmetric Matrix\n",
    "\n",
    "**Definition** (Symmetric Matrix). A matrix $A ∈ R^{n×n}$ is symmetric if $A = A^⊤$.\n",
    "\n",
    "Note that only $(n,n)$-matrices can be symmetric and, generally, we call them also square matrix.\n",
    "\n",
    "Moreover, if $A$ is invertible, then so is $A^T$, and $(A^{-1})^T = (A^T)^{-1} := A^{-T}$ \n",
    "\n",
    "*Remark*\n",
    "The sum of symmetric matrices is always symmetric."
   ]
  },
  {
   "cell_type": "markdown",
   "metadata": {},
   "source": [
    "### Matrix Scalar Multiplication\n",
    "\n",
    "**Definition**\n",
    "\n",
    "Let $ A \\in \\mathbb{R}^{m \\times n}$ and $ \\lambda $ be a scalar. The scalar multiplication of $ A $ by $ \\lambda $, denoted as $ \\lambda A $, is a matrix obtained by multiplying each element of $ A $ by the scalar $ \\lambda $:\n",
    "\n",
    "$$\\lambda A = \\lambda \\cdot a_{ij}$$\n",
    "\n",
    "For $\\lambda , \\psi \\in \\mathbb{R}$, the following holds:\n",
    " - **Associativity**\n",
    " - - $(\\lambda \\psi)C = \\lambda(\\psi C), \\quad C \\in \\mathbb{R}^{m \\times n}$ \n",
    " - - $\\lambda (BC) = (\\lambda B) C =  B(\\lambda C) = (BC)\\lambda, \\quad B \\in \\mathbb{R}^{m \\times n}, C \\in \\mathbb{R}^{n \\times k}$\n",
    " - - Note that $\\lambda^T = \\lambda$, so $(\\lambda C)^T = C^T \\lambda^T = C^T \\lambda = \\lambda C^T \\quad \\forall \\lambda \\in \\mathbb{R}$\n",
    " - **Distributivity**\n",
    " - - $(\\lambda + \\psi) C = \\lambda C + \\psi C, \\quad C \\in \\mathbb{R}^{m \\times n}$\n",
    " - - $\\lambda (B + C) = \\lambda B + \\lambda C, \\quad B,C \\in \\mathbb{R}^{m \\times n}$\n",
    "\n",
    "\n"
   ]
  },
  {
   "cell_type": "markdown",
   "metadata": {},
   "source": [
    "## Systems of linear equations\n",
    "\n",
    "Systems of linear equations are mathematical expressions involving multiple linear equations with the same set of variables. Each linear equation can be represented in the form\n",
    "\n",
    "$$\\large ax + by + cz + ... = d$$\n",
    "\n",
    "where $a, b, c$ etc., are coefficients, and $x, y, z$ etc., are variables. \n",
    "\n",
    "The goal of solving a system of linear equations is to find a set of values for the variables that simultaneously satisfy all the equations. This set of values is called a solution, and it represents the point where all the equations intersect in n-dimensional space, if there are $n$ variables."
   ]
  },
  {
   "cell_type": "markdown",
   "metadata": {},
   "source": [
    "For example we can consider the following system of equations\n",
    "\n",
    "$$\n",
    "\\begin{align}\n",
    "2&x_1 + 3x_2 + 5x_3  &= 1 \\\\\n",
    "4&x_1 - 2x_2 - 7x_3 &= 8 \\\\\n",
    "9&x_1 + 5x_2 - 3x_3 &= 2 \\\\\n",
    "\\end{align}\n",
    "$$\n",
    "\n",
    "We can write this equation system in a more compact form as\n",
    "\n",
    "$$\n",
    "\\begin{bmatrix} \n",
    "   2 & 3  & 5\\\\\n",
    "   4 & -2 & -7\\\\\n",
    "   9 & 5 & -3\\\\\n",
    "\\end{bmatrix}\n",
    "\\begin{bmatrix} \n",
    "   x_1\\\\\n",
    "   x_2\\\\\n",
    "   x_3\\\\\n",
    "\\end{bmatrix}\n",
    "=\n",
    "\\begin{bmatrix} \n",
    "   1\\\\\n",
    "   8\\\\\n",
    "   2\\\\\n",
    "\\end{bmatrix}\n",
    "$$\n",
    "\n",
    "So generally a system of linear equations can be compactly represented in their matrix form as $\\textbf{Ax} = \\textbf{b}$; and we want to find scalars $x_1, x_2, x_3$ such that $\\sum_{i=1}^{3} x_i \\textbf{c}_i$ where $\\textbf{c}_i$ is the $i$-th column of the matrix and $\\textbf{b}$ "
   ]
  },
  {
   "cell_type": "markdown",
   "metadata": {},
   "source": [
    "##### Examples\n",
    "\n",
    "Now consider the system of two linear equations\n",
    "\n",
    "$$\n",
    "\\begin{cases}\n",
    "x - 3y = -3 \\\\\n",
    "2x + y = 8\n",
    "\\end{cases}\n",
    "$$\n",
    "\n",
    "Each equation individually defines a line in the plane, pictured below. "
   ]
  },
  {
   "cell_type": "code",
   "execution_count": 42,
   "metadata": {},
   "outputs": [
    {
     "name": "stdout",
     "output_type": "stream",
     "text": [
      "[3. 2.]\n"
     ]
    },
    {
     "data": {
      "image/png": "[encoded data removed]",
      "text/plain": [
       "<Figure size 640x480 with 1 Axes>"
      ]
     },
     "metadata": {},
     "output_type": "display_data"
    }
   ],
   "source": [
    "import matplotlib.pyplot as plt\n",
    "import numpy as np\n",
    "\n",
    "plt.title('Two equations system', fontsize=16)\n",
    "plt.ylabel('y', fontsize=14)\n",
    "plt.xlabel('x', fontsize=14)\n",
    "plt.xlim(-10, 10)\n",
    "plt.ylim(-10, 10)\n",
    "\n",
    "plt.plot([0, 0], [-10, 10], 'k')\n",
    "plt.plot([10, -10], [0, 0], 'k')\n",
    "\n",
    "# Plot the first equation graph\n",
    "x1 = np.linspace(-10, 10, 100)\n",
    "y1 = x1/3 + 1\n",
    "\n",
    "plt.plot(x1, y1)\n",
    "\n",
    "# Plot the second equation graph\n",
    "x2 = np.linspace(-10, 10, 100)\n",
    "y2 = 8 - 2*x2\n",
    "\n",
    "plt.plot(x2, y2)\n",
    "\n",
    "# Calculate and plot the solution point\n",
    "A = np.matrix([[1, -3], [2, 1]])\n",
    "b = np.array([-3, 8])\n",
    "\n",
    "x = np.linalg.solve(A, b)\n",
    "\n",
    "plt.plot(x[0], x[1], marker='o')\n",
    "plt.text(x[0], x[1]+1, '({}, {})'.format(x[0], x[1]))\n",
    "\n",
    "print(x)"
   ]
  },
  {
   "cell_type": "markdown",
   "metadata": {},
   "source": [
    "A solution to the system of both equations is a pair of numbers $( x , y )$ that makes both equations true at once. In other words, it as a point that lies on both lines simultaneously. We can see in the picture above that there is only one point where the lines intersect: therefore, this system has exactly one solution.\n",
    "\n",
    "Usually, two lines in the plane will intersect in one point, but of course this is not always the case. Consider now the system of equations\n",
    "\n",
    "$$\n",
    "\\begin{cases}\n",
    "x - 3y = -3 \\\\\n",
    "x - 3y = 8\n",
    "\\end{cases}\n",
    "$$\n",
    "\n",
    "These define parallel lines in the plane."
   ]
  },
  {
   "cell_type": "code",
   "execution_count": 44,
   "metadata": {},
   "outputs": [
    {
     "data": {
      "text/plain": [
       "[<matplotlib.lines.Line2D at 0x7fda6423f2b0>]"
      ]
     },
     "execution_count": 44,
     "metadata": {},
     "output_type": "execute_result"
    },
    {
     "data": {
      "image/png": "[encoded data removed]",
      "text/plain": [
       "<Figure size 640x480 with 1 Axes>"
      ]
     },
     "metadata": {},
     "output_type": "display_data"
    }
   ],
   "source": [
    "import matplotlib.pyplot as plt\n",
    "import numpy as np\n",
    "\n",
    "plt.title('Two equations system', fontsize=16)\n",
    "plt.ylabel('y', fontsize=14)\n",
    "plt.xlabel('x', fontsize=14)\n",
    "plt.xlim(-10, 10)\n",
    "plt.ylim(-10, 10)\n",
    "\n",
    "plt.plot([0, 0], [-10, 10], 'k')\n",
    "plt.plot([10, -10], [0, 0], 'k')\n",
    "\n",
    "# Plot the first equation graph\n",
    "x1 = np.linspace(-10, 10, 100)\n",
    "y1 = x1/3 + 1\n",
    "\n",
    "plt.plot(x1, y1)\n",
    "\n",
    "# Plot the second equation graph\n",
    "x2 = np.linspace(-10, 10, 100)\n",
    "y2 = (x2 - 8)/3\n",
    "\n",
    "plt.plot(x2, y2)"
   ]
  },
  {
   "cell_type": "markdown",
   "metadata": {},
   "source": [
    "The fact that that the lines do not intersect means that the system of equations has no solution. Of course, this is easy to see algebraically: if $x − 3y = − 3$,\n",
    "then it is cannot also be the case that $x − 3 y = 3$.\n",
    "\n",
    "There is one more possibility. Consider the system of equations\n",
    "\n",
    "$$\n",
    "\\begin{cases}\n",
    "x - 3y = -3 \\\\\n",
    "2x - 6y = -6\n",
    "\\end{cases}\n",
    "$$\n",
    "\n",
    "The second equation is a multiple of the first, so these equations define the same line in the plane. "
   ]
  },
  {
   "cell_type": "code",
   "execution_count": 58,
   "metadata": {},
   "outputs": [
    {
     "data": {
      "text/plain": [
       "[<matplotlib.lines.Line2D at 0x7fda5fa0a080>]"
      ]
     },
     "execution_count": 58,
     "metadata": {},
     "output_type": "execute_result"
    },
    {
     "data": {
      "image/png": "[encoded data removed]",
      "text/plain": [
       "<Figure size 640x480 with 1 Axes>"
      ]
     },
     "metadata": {},
     "output_type": "display_data"
    }
   ],
   "source": [
    "import matplotlib.pyplot as plt\n",
    "import numpy as np\n",
    "\n",
    "plt.title('Two equations system', fontsize=16)\n",
    "plt.ylabel('y', fontsize=14)\n",
    "plt.xlabel('x', fontsize=14)\n",
    "plt.xlim(-10, 10)\n",
    "plt.ylim(-10, 10)\n",
    "\n",
    "plt.plot([0, 0], [-10, 10], 'k')\n",
    "plt.plot([10, -10], [0, 0], 'k')\n",
    "\n",
    "# Plot the first equation graph\n",
    "x1 = np.linspace(-10, 10, 100)\n",
    "y1 = x1/3 + 1\n",
    "\n",
    "plt.plot(x1, y1, linewidth=5)\n",
    "\n",
    "# Plot the second equation graph\n",
    "x2 = np.linspace(-10, 10, 100)\n",
    "y2 = (2*x2 + 6)/6\n",
    "\n",
    "plt.plot(x2, y2, alpha=0.9)"
   ]
  },
  {
   "cell_type": "markdown",
   "metadata": {},
   "source": [
    "In this case, there are infinitely many solutions of the system of equations.\n",
    "\n",
    "if we write the system in a matrix form \n",
    "\n",
    "Infact a general solutions of the system of equations is \n",
    "\n",
    "$$\n",
    "\\begin{bmatrix} \n",
    "    3 \\\\\n",
    "    2\n",
    "\\end{bmatrix}\n",
    "\n",
    "+\n",
    "\n",
    "\\lambda \\cdot\n",
    "\\begin{bmatrix} \n",
    "    3 \\\\\n",
    "    1/3\n",
    "\\end{bmatrix}\n",
    "$$"
   ]
  },
  {
   "cell_type": "code",
   "execution_count": 12,
   "metadata": {},
   "outputs": [
    {
     "name": "stdout",
     "output_type": "stream",
     "text": [
      "[Eq(-4*w + x + 8*z, 42), Eq(12*w + y + 2*z, 8)]\n",
      "Solution:\n",
      "{x: 4*w - 8*z + 42, y: -12*w - 2*z + 8}\n"
     ]
    }
   ],
   "source": [
    "import numpy as np\n",
    "from sympy import symbols, Eq, solve\n",
    "\n",
    "# Coefficients matrix\n",
    "A = np.array([[1, 0, 8, -4], [0, 1, 2, 12]])\n",
    "\n",
    "# Known values vector\n",
    "b = np.array([42, 8])\n",
    "\n",
    "# Define symbols for variables\n",
    "x, y, z, w = symbols('x y z w')\n",
    "\n",
    "# Create equations\n",
    "equations = [Eq(A[0, 0]*x + A[0, 1]*y + A[0, 2]*z + A[0, 3]*w, b[0]),\n",
    "             Eq(A[1, 0]*x + A[1, 1]*y + A[1, 2]*z + A[1, 3]*w, b[1])]\n",
    "\n",
    "print(equations)\n",
    "\n",
    "# Solve the system of equations\n",
    "solution = solve(equations, (x, y, z, w))\n",
    "\n",
    "print(\"Solution:\")\n",
    "print(solution)"
   ]
  },
  {
   "cell_type": "code",
   "execution_count": null,
   "metadata": {},
   "outputs": [],
   "source": []
  }
 ],
 "metadata": {
  "kernelspec": {
   "display_name": "datas",
   "language": "python",
   "name": "python3"
  },
  "language_info": {
   "codemirror_mode": {
    "name": "ipython",
    "version": 3
   },
   "file_extension": ".py",
   "mimetype": "text/x-python",
   "name": "python",
   "nbconvert_exporter": "python",
   "pygments_lexer": "ipython3",
   "version": "3.10.11"
  }
 },
 "nbformat": 4,
 "nbformat_minor": 2
}
